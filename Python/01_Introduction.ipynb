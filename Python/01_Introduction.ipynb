{
 "cells": [
  {
   "cell_type": "markdown",
   "id": "c6fe9aaf",
   "metadata": {},
   "source": [
    "# 1. Introduction\n",
    "\n",
    "We will follow a standard python tutorial offered by python \n",
    "so you have a reference with which to go further\n",
    "\n",
    "Complete tutorial: https://docs.python.org/3/tutorial/\n",
    "\n",
    "## An Informal Introduction to Python\n",
    "\n",
    "<a href=\"https://docs.python.org/3/tutorial/introduction.html\" target=\"_blank\">An Informal Introduction to Python </a>"
   ]
  },
  {
   "cell_type": "markdown",
   "id": "a49649cf",
   "metadata": {},
   "source": [
    "## 1.1 Using python as a Calculator"
   ]
  },
  {
   "cell_type": "markdown",
   "id": "c98a896b",
   "metadata": {},
   "source": [
    "### 1.1.1 Numbers and basic operations"
   ]
  },
  {
   "cell_type": "code",
   "execution_count": null,
   "id": "bb3fd300",
   "metadata": {
    "collapsed": false
   },
   "outputs": [],
   "source": [
    "1 + 1"
   ]
  },
  {
   "cell_type": "code",
   "execution_count": null,
   "id": "0b24c6c8",
   "metadata": {
    "collapsed": false
   },
   "outputs": [],
   "source": [
    "3 * 2"
   ]
  },
  {
   "cell_type": "code",
   "execution_count": null,
   "id": "0a1df740",
   "metadata": {
    "collapsed": false
   },
   "outputs": [],
   "source": [
    "3 ** 2"
   ]
  },
  {
   "cell_type": "code",
   "execution_count": null,
   "id": "655533e5",
   "metadata": {
    "collapsed": false
   },
   "outputs": [],
   "source": [
    "5 / 6"
   ]
  },
  {
   "cell_type": "code",
   "execution_count": null,
   "id": "127957af",
   "metadata": {
    "collapsed": false
   },
   "outputs": [],
   "source": [
    "5 // 6"
   ]
  },
  {
   "cell_type": "markdown",
   "id": "2ee5c7c8",
   "metadata": {},
   "source": [
    "### 1.1.2 Variables\n",
    "\n",
    "Saving values in variables"
   ]
  },
  {
   "cell_type": "code",
   "execution_count": null,
   "id": "59ead112",
   "metadata": {
    "collapsed": false
   },
   "outputs": [],
   "source": [
    "width = 20\n",
    "height = 5 * 9\n",
    "width * height"
   ]
  },
  {
   "cell_type": "markdown",
   "id": "b08753db",
   "metadata": {},
   "source": [
    "If a variable is not “defined” (assigned a value), trying to use it will give you an error:"
   ]
  },
  {
   "cell_type": "code",
   "execution_count": null,
   "id": "3ba12afc",
   "metadata": {
    "collapsed": false
   },
   "outputs": [],
   "source": [
    "depth"
   ]
  },
  {
   "cell_type": "markdown",
   "id": "62dda959",
   "metadata": {},
   "source": [
    "### 1.1.3 Strings\n",
    "\n",
    "Besides numbers, Python can also manipulate strings, which can be expressed in several ways. \n",
    "They can be enclosed in single quotes (`'...'`) or double quotes (`\"...\"`) with the same result"
   ]
  },
  {
   "cell_type": "code",
   "execution_count": null,
   "id": "55a3ab03",
   "metadata": {
    "collapsed": false
   },
   "outputs": [],
   "source": [
    "'spam eggs'  # single quotes"
   ]
  },
  {
   "cell_type": "code",
   "execution_count": null,
   "id": "63ffa1c7",
   "metadata": {
    "collapsed": false
   },
   "outputs": [],
   "source": [
    "\"spam eggs\"  # ...or use double quotes instead"
   ]
  },
  {
   "cell_type": "code",
   "execution_count": null,
   "id": "7c0b9ec9",
   "metadata": {
    "collapsed": false
   },
   "outputs": [],
   "source": [
    "variable = \"spam eggs\"\n",
    "print(variable)  # Better to use the print() function"
   ]
  },
  {
   "cell_type": "markdown",
   "id": "ad3a3637",
   "metadata": {},
   "source": [
    "String literals can span multiple lines. One way is using triple-quotes: `\"\"\"...\"\"\"` or `'''...'''`"
   ]
  },
  {
   "cell_type": "code",
   "execution_count": null,
   "id": "a0375799",
   "metadata": {
    "collapsed": false
   },
   "outputs": [],
   "source": [
    "print(\"\"\" It is possible to use\n",
    "\t\t  several lines \n",
    "\t\t  \"\"\")"
   ]
  },
  {
   "cell_type": "markdown",
   "id": "db245759",
   "metadata": {},
   "source": [
    "Strings are usually used to comment the code so we know what's going on"
   ]
  },
  {
   "cell_type": "code",
   "execution_count": null,
   "id": "ca29a5c5",
   "metadata": {
    "collapsed": false
   },
   "outputs": [],
   "source": [
    "# It is possible to write comments in this way, with the \"#\""
   ]
  },
  {
   "cell_type": "code",
   "execution_count": null,
   "id": "7a6059c1",
   "metadata": {
    "collapsed": false
   },
   "outputs": [],
   "source": [
    "\"\"\"\n",
    "But if want to write much larger comments\n",
    "then it's better this way\n",
    "\"\"\""
   ]
  },
  {
   "cell_type": "markdown",
   "id": "eb4fc022",
   "metadata": {},
   "source": [
    "If you want to concatenate variables or a variable and a literal, use `+`:"
   ]
  },
  {
   "cell_type": "code",
   "execution_count": null,
   "id": "71994309",
   "metadata": {
    "collapsed": false
   },
   "outputs": [],
   "source": [
    "prefix = 'Py'\n",
    "print( prefix + 'thon' )"
   ]
  },
  {
   "cell_type": "markdown",
   "id": "4d93a836",
   "metadata": {},
   "source": [
    "Strings can be indexed (subscripted), with the first character having index 0. \n",
    "There is no separate character type; a character is simply a string of size one:"
   ]
  },
  {
   "cell_type": "code",
   "execution_count": null,
   "id": "387f0411",
   "metadata": {
    "collapsed": false
   },
   "outputs": [],
   "source": [
    "word = 'Python'\n",
    "print(word[0])\n",
    "print(word[1])\n",
    "print(word[5])"
   ]
  },
  {
   "cell_type": "markdown",
   "id": "ff1fae69",
   "metadata": {},
   "source": [
    "Indices may also be negative numbers, to start counting from the right:"
   ]
  },
  {
   "cell_type": "code",
   "execution_count": null,
   "id": "1d9b700e",
   "metadata": {
    "collapsed": false
   },
   "outputs": [],
   "source": [
    "print(word[-1])  # last character\n",
    "print(word[-2])  # second-last character\n",
    "print(word[-6])"
   ]
  },
  {
   "cell_type": "markdown",
   "id": "adf14567",
   "metadata": {},
   "source": [
    "Note that since -0 is the same as 0, negative indices start from -1.\n",
    "\n",
    "In addition to indexing, slicing is also supported. While indexing is used to obtain individual characters, slicing allows you to obtain substring:"
   ]
  },
  {
   "cell_type": "code",
   "execution_count": null,
   "id": "dda49295",
   "metadata": {
    "collapsed": false
   },
   "outputs": [],
   "source": [
    "print(word[0:2])  # characters from position 0 (included) to 2 (excluded)\n",
    "print(word[2:5])  # characters from position 2 (included) to 5 (excluded)"
   ]
  },
  {
   "cell_type": "markdown",
   "id": "19e77d23",
   "metadata": {},
   "source": [
    "Slice indices have useful defaults; an omitted first index defaults to zero, an omitted second index defaults to the size of the string being sliced."
   ]
  },
  {
   "cell_type": "code",
   "execution_count": null,
   "id": "cf0b4988",
   "metadata": {
    "collapsed": false
   },
   "outputs": [],
   "source": [
    "print(word[:2])   # character from the beginning to position 2 (excluded)\n",
    "print(word[4:])   # characters from position 4 (included) to the end\n",
    "print(word[-2:])  # characters from the second-last (included) to the end"
   ]
  },
  {
   "cell_type": "markdown",
   "id": "d79871f1",
   "metadata": {},
   "source": [
    "Note how the start is always included, and the end always excluded. This makes sure that s[:i] + s[i:] is always equal to s:"
   ]
  },
  {
   "cell_type": "code",
   "execution_count": null,
   "id": "6a65b493",
   "metadata": {
    "collapsed": false
   },
   "outputs": [],
   "source": [
    "print(word[:2] + word[2:])\n",
    "print(word[:4] + word[4:])"
   ]
  },
  {
   "cell_type": "markdown",
   "id": "3d7660da",
   "metadata": {},
   "source": [
    "One way to remember how slices work is to think of the indices as pointing between characters, with the left edge of the first character numbered 0. Then the right edge of the last character of a string of n characters has index n, for example:"
   ]
  },
  {
   "cell_type": "code",
   "execution_count": null,
   "id": "17df7aba",
   "metadata": {
    "collapsed": false
   },
   "outputs": [],
   "source": [
    "#  +---+---+---+---+---+---+\n",
    "#  | P | y | t | h | o | n |\n",
    "#  +---+---+---+---+---+---+\n",
    "#  0   1   2   3   4   5   6\n",
    "# -6  -5  -4  -3  -2  -1"
   ]
  },
  {
   "cell_type": "markdown",
   "id": "60517817",
   "metadata": {},
   "source": [
    "The first row of numbers gives the position of the indices 0…6 in the string; the second row gives the \n",
    "corresponding negative indices. The slice from i to j consists of all characters between the edges labeled i and j, respectively.\n",
    "\n",
    "For non-negative indices, the length of a slice is the difference of the indices, if both are within bounds. \n",
    "For example, the length of word[1:3] is 2.\n",
    "\n",
    "he built-in function len() returns the length of a string:"
   ]
  },
  {
   "cell_type": "code",
   "execution_count": null,
   "id": "c98b73af",
   "metadata": {
    "collapsed": false
   },
   "outputs": [],
   "source": [
    "len(word[1:3])"
   ]
  },
  {
   "cell_type": "code",
   "execution_count": null,
   "id": "4400e9e4",
   "metadata": {
    "collapsed": false
   },
   "outputs": [],
   "source": [
    "len('supercalifragilisticexpialidocious')"
   ]
  },
  {
   "cell_type": "code",
   "execution_count": null,
   "id": "5d63c0a9",
   "metadata": {
    "collapsed": false
   },
   "outputs": [],
   "source": [
    "len(word)\n",
    "\n",
    "# Attempting to use an index that is too large will result in an error:"
   ]
  },
  {
   "cell_type": "code",
   "execution_count": null,
   "id": "0c49e62f",
   "metadata": {
    "collapsed": false
   },
   "outputs": [],
   "source": [
    "word[42]  # the word only has 6 characters"
   ]
  },
  {
   "cell_type": "markdown",
   "id": "5b3abc33",
   "metadata": {},
   "source": [
    "However, out of range slice indexes are handled gracefully when used for slicing:"
   ]
  },
  {
   "cell_type": "code",
   "execution_count": null,
   "id": "b89f56ad",
   "metadata": {
    "collapsed": false
   },
   "outputs": [],
   "source": [
    "word[4:42]"
   ]
  },
  {
   "cell_type": "code",
   "execution_count": null,
   "id": "08af651b",
   "metadata": {
    "collapsed": false
   },
   "outputs": [],
   "source": [
    "word[42:]"
   ]
  },
  {
   "cell_type": "markdown",
   "id": "991af290",
   "metadata": {},
   "source": [
    "### 1.1.3. Lists\n",
    "\n",
    "Python knows a number of compound data types, used to group together other values. \n",
    "The most versatile is the list, which can be written as a list of comma-separated values \n",
    "(items) between square brackets. Lists might contain items of different types, but usually \n",
    "the items all have the same type."
   ]
  },
  {
   "cell_type": "code",
   "execution_count": null,
   "id": "9da896a1",
   "metadata": {
    "collapsed": false
   },
   "outputs": [],
   "source": [
    "squares = [1, 4, 9, 16, 25]\n",
    "print(squares)"
   ]
  },
  {
   "cell_type": "markdown",
   "id": "9a4c7812",
   "metadata": {},
   "source": [
    "Like strings (and all other built-in sequence types), lists can be indexed and sliced:"
   ]
  },
  {
   "cell_type": "code",
   "execution_count": null,
   "id": "02f5ac88",
   "metadata": {
    "collapsed": false
   },
   "outputs": [],
   "source": [
    "print(squares[0])  # indexing returns the item"
   ]
  },
  {
   "cell_type": "code",
   "execution_count": null,
   "id": "40baf68a",
   "metadata": {
    "collapsed": false
   },
   "outputs": [],
   "source": [
    "print(squares[-1])"
   ]
  },
  {
   "cell_type": "code",
   "execution_count": null,
   "id": "90ccd5ea",
   "metadata": {
    "collapsed": false
   },
   "outputs": [],
   "source": [
    "print(squares[-3:])  # slicing returns a new list"
   ]
  },
  {
   "cell_type": "markdown",
   "id": "02fe992f",
   "metadata": {},
   "source": [
    "All slice operations return a new list containing the requested elements. \n",
    "This means that the following slice returns a shallow copy of the list:"
   ]
  },
  {
   "cell_type": "code",
   "execution_count": null,
   "id": "24756dc8",
   "metadata": {
    "collapsed": false
   },
   "outputs": [],
   "source": [
    "print(squares[:])"
   ]
  },
  {
   "cell_type": "markdown",
   "id": "77d9288f",
   "metadata": {},
   "source": [
    "Lists also support operations like concatenation:"
   ]
  },
  {
   "cell_type": "code",
   "execution_count": null,
   "id": "0b139ade",
   "metadata": {
    "collapsed": false
   },
   "outputs": [],
   "source": [
    "squares + [36, 49, 64, 81, 100]"
   ]
  },
  {
   "cell_type": "markdown",
   "id": "92f4d8e4",
   "metadata": {},
   "source": [
    "Unlike strings, which are immutable, lists are a mutable type, i.e. it is possible to change their content:"
   ]
  },
  {
   "cell_type": "code",
   "execution_count": null,
   "id": "1e80b319",
   "metadata": {
    "collapsed": false
   },
   "outputs": [],
   "source": [
    "cubes = [1, 7, 27, 64, 125]  # something's wrong here\n",
    "cubes[1] = 8  # replace the wrong value\n",
    "print(cubes)"
   ]
  },
  {
   "cell_type": "markdown",
   "id": "1e8452c5",
   "metadata": {},
   "source": [
    "You can also add new items at the end of the list, by using the append() method (we will see more about methods later):"
   ]
  },
  {
   "cell_type": "code",
   "execution_count": null,
   "id": "1827b6c2",
   "metadata": {
    "collapsed": false
   },
   "outputs": [],
   "source": [
    "cubes.append(216)  # add the cube of 6\n",
    "cubes.append(7 ** 3)  # and the cube of 7\n",
    "print(cubes)"
   ]
  },
  {
   "cell_type": "markdown",
   "id": "2338ae3a",
   "metadata": {},
   "source": [
    "With strings"
   ]
  },
  {
   "cell_type": "code",
   "execution_count": null,
   "id": "c9d850f9",
   "metadata": {
    "collapsed": false
   },
   "outputs": [],
   "source": [
    "letters = ['a', 'b', 'c', 'd', 'e', 'f', 'g']\n",
    "print(letters)"
   ]
  },
  {
   "cell_type": "markdown",
   "id": "4ed79d9d",
   "metadata": {},
   "source": [
    "Assignment to slices is also possible, and this can even change the size of the list or clear it entirely:"
   ]
  },
  {
   "cell_type": "code",
   "execution_count": null,
   "id": "675ff11c",
   "metadata": {
    "collapsed": false
   },
   "outputs": [],
   "source": [
    "letters[2:5] = ['C', 'D', 'E']\n",
    "print(letters)"
   ]
  },
  {
   "cell_type": "markdown",
   "id": "6e7e127d",
   "metadata": {},
   "source": [
    "Now remove them"
   ]
  },
  {
   "cell_type": "code",
   "execution_count": null,
   "id": "40622a3a",
   "metadata": {
    "collapsed": false
   },
   "outputs": [],
   "source": [
    "letters[2:5] = []\n",
    "print(letters)"
   ]
  },
  {
   "cell_type": "markdown",
   "id": "0b0c846e",
   "metadata": {},
   "source": [
    "The built-in function len() also applies to lists:"
   ]
  },
  {
   "cell_type": "code",
   "execution_count": null,
   "id": "da17ebe2",
   "metadata": {
    "collapsed": false
   },
   "outputs": [],
   "source": [
    "letters = ['a', 'b', 'c', 'd']\n",
    "print(len(letters))"
   ]
  },
  {
   "cell_type": "markdown",
   "id": "1b578bed",
   "metadata": {},
   "source": [
    "It is possible to nest lists (create lists containing other lists), for example:"
   ]
  },
  {
   "cell_type": "code",
   "execution_count": null,
   "id": "3b3eb663",
   "metadata": {
    "collapsed": false
   },
   "outputs": [],
   "source": [
    "a = ['a', 'b', 'c']\n",
    "n = [1, 2, 3]\n",
    "x = [a, n]\n",
    "print(x)"
   ]
  },
  {
   "cell_type": "code",
   "execution_count": null,
   "id": "b9b0189e",
   "metadata": {
    "collapsed": false
   },
   "outputs": [],
   "source": [
    "print(x[0])\n",
    "print(x[0][1])"
   ]
  },
  {
   "cell_type": "markdown",
   "id": "f570390e",
   "metadata": {},
   "source": [
    "## 1.2 First Steps Towards Programming\n",
    "\n",
    "Of course, we can use Python for more complicated tasks than adding two and two together. \n",
    "For instance, we can write an initial sub-sequence of the Fibonacci series as follows:"
   ]
  },
  {
   "cell_type": "code",
   "execution_count": null,
   "id": "dd4f8b30",
   "metadata": {
    "collapsed": false
   },
   "outputs": [],
   "source": [
    "# Fibonacci series:\n",
    "# the sum of two elements defines the next\n",
    "a, b = 0, 1\n",
    "while a < 10:\n",
    "\tprint(a, end=',')\n",
    "\ta, b = b, a+b"
   ]
  }
 ],
 "metadata": {},
 "nbformat": 4,
 "nbformat_minor": 5
}
