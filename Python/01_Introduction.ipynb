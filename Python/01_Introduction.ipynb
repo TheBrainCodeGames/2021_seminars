{
 "cells": [
  {
   "cell_type": "markdown",
   "id": "8c77b32f",
   "metadata": {},
   "source": [
    "# 1. Introduction\n",
    "\n",
    "We will follow a standard python tutorial offered by python \n",
    "so you have a reference with which to go further\n",
    "\n",
    "Complete tutorial: https://docs.python.org/3/tutorial/\n",
    "\n",
    "## An Informal Introduction to Python\n",
    "\n",
    "<a href=\"https://docs.python.org/3/tutorial/introduction.html\" target=\"_blank\">An Informal Introduction to Python </a>"
   ]
  },
  {
   "cell_type": "markdown",
   "id": "68cd27c2",
   "metadata": {},
   "source": [
    "## 1.1 Using python as a Calculator"
   ]
  },
  {
   "cell_type": "markdown",
   "id": "651441f7",
   "metadata": {},
   "source": [
    "### 1.1.1 Numbers and basic operations"
   ]
  },
  {
   "cell_type": "code",
   "execution_count": null,
   "id": "d5ac2369",
   "metadata": {},
   "outputs": [],
   "source": [
    "1 + 1"
   ]
  },
  {
   "cell_type": "code",
   "execution_count": null,
   "id": "993a73c9",
   "metadata": {},
   "outputs": [],
   "source": [
    "3 * 2"
   ]
  },
  {
   "cell_type": "code",
   "execution_count": null,
   "id": "43aae01d",
   "metadata": {},
   "outputs": [],
   "source": [
    "3 ** 2"
   ]
  },
  {
   "cell_type": "code",
   "execution_count": null,
   "id": "47e5650d",
   "metadata": {},
   "outputs": [],
   "source": [
    "5 / 6"
   ]
  },
  {
   "cell_type": "code",
   "execution_count": null,
   "id": "cdc5f55d",
   "metadata": {},
   "outputs": [],
   "source": [
    "5 // 6"
   ]
  },
  {
   "cell_type": "markdown",
   "id": "5a80ed87",
   "metadata": {},
   "source": [
    "### 1.1.2 Variables\n",
    "\n",
    "Saving values in variables"
   ]
  },
  {
   "cell_type": "code",
   "execution_count": null,
   "id": "4f8b930b",
   "metadata": {},
   "outputs": [],
   "source": [
    "width = 20\n",
    "height = 5 * 9\n",
    "width * height"
   ]
  },
  {
   "cell_type": "markdown",
   "id": "8e412b7d",
   "metadata": {},
   "source": [
    "If a variable is not “defined” (assigned a value), trying to use it will give you an error:"
   ]
  },
  {
   "cell_type": "code",
   "execution_count": null,
   "id": "943d4c8d",
   "metadata": {},
   "outputs": [],
   "source": [
    "depth"
   ]
  },
  {
   "cell_type": "markdown",
   "id": "0cb6b228",
   "metadata": {},
   "source": [
    "### 1.1.3 Strings\n",
    "\n",
    "Besides numbers, Python can also manipulate strings, which can be expressed in several ways. \n",
    "They can be enclosed in single quotes (`'...'`) or double quotes (`\"...\"`) with the same result"
   ]
  },
  {
   "cell_type": "code",
   "execution_count": null,
   "id": "ebee0060",
   "metadata": {},
   "outputs": [],
   "source": [
    "'spam eggs'  # single quotes"
   ]
  },
  {
   "cell_type": "code",
   "execution_count": null,
   "id": "aefaa305",
   "metadata": {},
   "outputs": [],
   "source": [
    "\"spam eggs\"  # ...or use double quotes instead"
   ]
  },
  {
   "cell_type": "code",
   "execution_count": null,
   "id": "5082ea86",
   "metadata": {},
   "outputs": [],
   "source": [
    "variable = \"spam eggs\"\n",
    "print(variable)  # Better to use the print() function"
   ]
  },
  {
   "cell_type": "markdown",
   "id": "6087a546",
   "metadata": {},
   "source": [
    "String literals can span multiple lines. One way is using triple-quotes: `\"\"\"...\"\"\"` or `'''...'''`"
   ]
  },
  {
   "cell_type": "code",
   "execution_count": null,
   "id": "0ae9ee68",
   "metadata": {},
   "outputs": [],
   "source": [
    "print(\"\"\" It is possible to use\n",
    "\t\t  several lines \n",
    "\t\t  \"\"\")"
   ]
  },
  {
   "cell_type": "markdown",
   "id": "e28948b4",
   "metadata": {},
   "source": [
    "Strings are usually used to comment the code so we know what's going on"
   ]
  },
  {
   "cell_type": "code",
   "execution_count": null,
   "id": "b8da072c",
   "metadata": {},
   "outputs": [],
   "source": [
    "# It is possible to write comments in this way, with the \"#\""
   ]
  },
  {
   "cell_type": "code",
   "execution_count": null,
   "id": "d5d68d86",
   "metadata": {},
   "outputs": [],
   "source": [
    "\"\"\"\n",
    "But if want to write much larger comments\n",
    "then it's better this way\n",
    "\"\"\""
   ]
  },
  {
   "cell_type": "markdown",
   "id": "96cf00ab",
   "metadata": {},
   "source": [
    "If you want to concatenate variables or a variable and a literal, use `+`:"
   ]
  },
  {
   "cell_type": "code",
   "execution_count": null,
   "id": "d48587e1",
   "metadata": {},
   "outputs": [],
   "source": [
    "prefix = 'Py'\n",
    "print( prefix + 'thon' )"
   ]
  },
  {
   "cell_type": "markdown",
   "id": "2f072bc0",
   "metadata": {},
   "source": [
    "Strings can be indexed (subscripted), with the first character having index 0. \n",
    "There is no separate character type; a character is simply a string of size one:"
   ]
  },
  {
   "cell_type": "code",
   "execution_count": null,
   "id": "7a5f6e86",
   "metadata": {},
   "outputs": [],
   "source": [
    "word = 'Python'\n",
    "print(word[0])\n",
    "print(word[1])\n",
    "print(word[5])"
   ]
  },
  {
   "cell_type": "markdown",
   "id": "32105e95",
   "metadata": {},
   "source": [
    "Indices may also be negative numbers, to start counting from the right:"
   ]
  },
  {
   "cell_type": "code",
   "execution_count": null,
   "id": "c8fc96d0",
   "metadata": {},
   "outputs": [],
   "source": [
    "print(word[-1])  # last character\n",
    "print(word[-2])  # second-last character\n",
    "print(word[-6])"
   ]
  },
  {
   "cell_type": "markdown",
   "id": "fcf3dfbb",
   "metadata": {},
   "source": [
    "Note that since -0 is the same as 0, negative indices start from -1.\n",
    "\n",
    "In addition to indexing, slicing is also supported. While indexing is used to obtain individual characters, slicing allows you to obtain substring:"
   ]
  },
  {
   "cell_type": "code",
   "execution_count": null,
   "id": "19dd678a",
   "metadata": {},
   "outputs": [],
   "source": [
    "print(word[0:2])  # characters from position 0 (included) to 2 (excluded)\n",
    "print(word[2:5])  # characters from position 2 (included) to 5 (excluded)"
   ]
  },
  {
   "cell_type": "markdown",
   "id": "02328d9f",
   "metadata": {},
   "source": [
    "Slice indices have useful defaults; an omitted first index defaults to zero, an omitted second index defaults to the size of the string being sliced."
   ]
  },
  {
   "cell_type": "code",
   "execution_count": null,
   "id": "3b266cb0",
   "metadata": {},
   "outputs": [],
   "source": [
    "print(word[:2])   # character from the beginning to position 2 (excluded)\n",
    "print(word[4:])   # characters from position 4 (included) to the end\n",
    "print(word[-2:])  # characters from the second-last (included) to the end"
   ]
  },
  {
   "cell_type": "markdown",
   "id": "813f4e62",
   "metadata": {},
   "source": [
    "Note how the start is always included, and the end always excluded. This makes sure that s[:i] + s[i:] is always equal to s:"
   ]
  },
  {
   "cell_type": "code",
   "execution_count": null,
   "id": "f8eb428f",
   "metadata": {},
   "outputs": [],
   "source": [
    "print(word[:2] + word[2:])\n",
    "print(word[:4] + word[4:])"
   ]
  },
  {
   "cell_type": "markdown",
   "id": "77b54f8f",
   "metadata": {},
   "source": [
    "One way to remember how slices work is to think of the indices as pointing between characters, with the left edge of the first character numbered 0. Then the right edge of the last character of a string of n characters has index n, for example:"
   ]
  },
  {
   "cell_type": "code",
   "execution_count": null,
   "id": "4bb89dab",
   "metadata": {},
   "outputs": [],
   "source": [
    "#  +---+---+---+---+---+---+\n",
    "#  | P | y | t | h | o | n |\n",
    "#  +---+---+---+---+---+---+\n",
    "#  0   1   2   3   4   5   6\n",
    "# -6  -5  -4  -3  -2  -1"
   ]
  },
  {
   "cell_type": "markdown",
   "id": "1f62c1a6",
   "metadata": {},
   "source": [
    "The first row of numbers gives the position of the indices 0…6 in the string; the second row gives the \n",
    "corresponding negative indices. The slice from i to j consists of all characters between the edges labeled i and j, respectively.\n",
    "\n",
    "For non-negative indices, the length of a slice is the difference of the indices, if both are within bounds. \n",
    "For example, the length of word[1:3] is 2.\n",
    "\n",
    "he built-in function len() returns the length of a string:"
   ]
  },
  {
   "cell_type": "code",
   "execution_count": null,
   "id": "99037d27",
   "metadata": {},
   "outputs": [],
   "source": [
    "len(word[1:3])"
   ]
  },
  {
   "cell_type": "code",
   "execution_count": null,
   "id": "8fef72b4",
   "metadata": {},
   "outputs": [],
   "source": [
    "len('supercalifragilisticexpialidocious')"
   ]
  },
  {
   "cell_type": "code",
   "execution_count": null,
   "id": "7045d082",
   "metadata": {},
   "outputs": [],
   "source": [
    "len(word)\n",
    "\n",
    "# Attempting to use an index that is too large will result in an error:"
   ]
  },
  {
   "cell_type": "code",
   "execution_count": null,
   "id": "42ec9eca",
   "metadata": {},
   "outputs": [],
   "source": [
    "word[42]  # the word only has 6 characters"
   ]
  },
  {
   "cell_type": "markdown",
   "id": "a612fffc",
   "metadata": {},
   "source": [
    "However, out of range slice indexes are handled gracefully when used for slicing:"
   ]
  },
  {
   "cell_type": "code",
   "execution_count": null,
   "id": "9be0ba03",
   "metadata": {},
   "outputs": [],
   "source": [
    "word[4:42]"
   ]
  },
  {
   "cell_type": "code",
   "execution_count": null,
   "id": "04014ccc",
   "metadata": {},
   "outputs": [],
   "source": [
    "word[42:]"
   ]
  },
  {
   "cell_type": "markdown",
   "id": "98a51e70",
   "metadata": {},
   "source": [
    "### 1.1.3. Lists\n",
    "\n",
    "Python knows a number of compound data types, used to group together other values. \n",
    "The most versatile is the list, which can be written as a list of comma-separated values \n",
    "(items) between square brackets. Lists might contain items of different types, but usually \n",
    "the items all have the same type."
   ]
  },
  {
   "cell_type": "code",
   "execution_count": null,
   "id": "c98d3f32",
   "metadata": {},
   "outputs": [],
   "source": [
    "squares = [1, 4, 9, 16, 25]\n",
    "print(squares)"
   ]
  },
  {
   "cell_type": "markdown",
   "id": "750ec348",
   "metadata": {},
   "source": [
    "Like strings (and all other built-in sequence types), lists can be indexed and sliced:"
   ]
  },
  {
   "cell_type": "code",
   "execution_count": null,
   "id": "396865a2",
   "metadata": {},
   "outputs": [],
   "source": [
    "print(squares[0])  # indexing returns the item"
   ]
  },
  {
   "cell_type": "code",
   "execution_count": null,
   "id": "ae6e8d2e",
   "metadata": {},
   "outputs": [],
   "source": [
    "print(squares[-1])"
   ]
  },
  {
   "cell_type": "code",
   "execution_count": null,
   "id": "c7bd7287",
   "metadata": {},
   "outputs": [],
   "source": [
    "print(squares[-3:])  # slicing returns a new list"
   ]
  },
  {
   "cell_type": "markdown",
   "id": "b260f0d5",
   "metadata": {},
   "source": [
    "All slice operations return a new list containing the requested elements. \n",
    "This means that the following slice returns a shallow copy of the list:"
   ]
  },
  {
   "cell_type": "code",
   "execution_count": null,
   "id": "86d7e53a",
   "metadata": {},
   "outputs": [],
   "source": [
    "print(squares[:])"
   ]
  },
  {
   "cell_type": "markdown",
   "id": "120c8c39",
   "metadata": {},
   "source": [
    "Lists also support operations like concatenation:"
   ]
  },
  {
   "cell_type": "code",
   "execution_count": null,
   "id": "48963136",
   "metadata": {},
   "outputs": [],
   "source": [
    "squares + [36, 49, 64, 81, 100]"
   ]
  },
  {
   "cell_type": "markdown",
   "id": "52c77c50",
   "metadata": {},
   "source": [
    "Unlike strings, which are immutable, lists are a mutable type, i.e. it is possible to change their content:"
   ]
  },
  {
   "cell_type": "code",
   "execution_count": null,
   "id": "2825f075",
   "metadata": {},
   "outputs": [],
   "source": [
    "cubes = [1, 7, 27, 64, 125]  # something's wrong here\n",
    "cubes[1] = 8  # replace the wrong value\n",
    "print(cubes)"
   ]
  },
  {
   "cell_type": "markdown",
   "id": "174c8601",
   "metadata": {},
   "source": [
    "You can also add new items at the end of the list, by using the append() method (we will see more about methods later):"
   ]
  },
  {
   "cell_type": "code",
   "execution_count": null,
   "id": "6c6c0a68",
   "metadata": {},
   "outputs": [],
   "source": [
    "cubes.append(216)  # add the cube of 6\n",
    "cubes.append(7 ** 3)  # and the cube of 7\n",
    "print(cubes)"
   ]
  },
  {
   "cell_type": "markdown",
   "id": "d344c20a",
   "metadata": {},
   "source": [
    "With strings"
   ]
  },
  {
   "cell_type": "code",
   "execution_count": null,
   "id": "75fd23c0",
   "metadata": {},
   "outputs": [],
   "source": [
    "letters = ['a', 'b', 'c', 'd', 'e', 'f', 'g']\n",
    "print(letters)"
   ]
  },
  {
   "cell_type": "markdown",
   "id": "93b279a6",
   "metadata": {},
   "source": [
    "Assignment to slices is also possible, and this can even change the size of the list or clear it entirely:"
   ]
  },
  {
   "cell_type": "code",
   "execution_count": null,
   "id": "ca30f5ea",
   "metadata": {},
   "outputs": [],
   "source": [
    "letters[2:5] = ['C', 'D', 'E']\n",
    "print(letters)"
   ]
  },
  {
   "cell_type": "markdown",
   "id": "ae992723",
   "metadata": {},
   "source": [
    "Now remove them"
   ]
  },
  {
   "cell_type": "code",
   "execution_count": null,
   "id": "2db5f67e",
   "metadata": {},
   "outputs": [],
   "source": [
    "letters[2:5] = []\n",
    "print(letters)"
   ]
  },
  {
   "cell_type": "markdown",
   "id": "e5b0ca44",
   "metadata": {},
   "source": [
    "The built-in function len() also applies to lists:"
   ]
  },
  {
   "cell_type": "code",
   "execution_count": null,
   "id": "87f653fb",
   "metadata": {},
   "outputs": [],
   "source": [
    "letters = ['a', 'b', 'c', 'd']\n",
    "print(len(letters))"
   ]
  },
  {
   "cell_type": "markdown",
   "id": "e8b798ae",
   "metadata": {},
   "source": [
    "It is possible to nest lists (create lists containing other lists), for example:"
   ]
  },
  {
   "cell_type": "code",
   "execution_count": null,
   "id": "744d92d3",
   "metadata": {},
   "outputs": [],
   "source": [
    "a = ['a', 'b', 'c']\n",
    "n = [1, 2, 3]\n",
    "x = [a, n]\n",
    "print(x)"
   ]
  },
  {
   "cell_type": "code",
   "execution_count": null,
   "id": "53a64685",
   "metadata": {},
   "outputs": [],
   "source": [
    "pritn(x[0])\n",
    "pritn(x[0][1])"
   ]
  },
  {
   "cell_type": "markdown",
   "id": "05bbd612",
   "metadata": {},
   "source": [
    "## 1.2 First Steps Towards Programming\n",
    "\n",
    "Of course, we can use Python for more complicated tasks than adding two and two together. \n",
    "For instance, we can write an initial sub-sequence of the Fibonacci series as follows:"
   ]
  },
  {
   "cell_type": "code",
   "execution_count": null,
   "id": "48213b2b",
   "metadata": {},
   "outputs": [],
   "source": [
    "# Fibonacci series:\n",
    "# the sum of two elements defines the next\n",
    "a, b = 0, 1\n",
    "while a < 10:\n",
    "\tprint(a, end=',')\n",
    "\ta, b = b, a+b"
   ]
  }
 ],
 "metadata": {
  "kernelspec": {
   "display_name": "Python 3",
   "language": "python",
   "name": "python3"
  },
  "language_info": {
   "codemirror_mode": {
    "name": "ipython",
    "version": 3
   },
   "file_extension": ".py",
   "mimetype": "text/x-python",
   "name": "python",
   "nbconvert_exporter": "python",
   "pygments_lexer": "ipython3",
   "version": "3.8.5"
  }
 },
 "nbformat": 4,
 "nbformat_minor": 5
}
