{
 "cells": [
  {
   "cell_type": "markdown",
   "id": "4f6f1da5",
   "metadata": {},
   "source": [
    "# 2. More Control Flow Tools\n",
    "\n",
    "We will follow a standard python tutorial offered by python \n",
    "so you have a reference with which to go further\n",
    "\n",
    "Complete tutorial: <a href=\"https://docs.python.org/3/tutorial/controlflow.html\" target=\"_blank\">More Control Flow Tools </a>\n",
    "\n",
    "Besides the while statement just introduced, Python uses the usual flow control statements known from other languages, with some twists."
   ]
  },
  {
   "cell_type": "markdown",
   "id": "3086e78c",
   "metadata": {},
   "source": [
    "## 2.1 if Statements\n",
    "Perhaps the most well-known statement type is the if statement. For example:"
   ]
  },
  {
   "cell_type": "code",
   "execution_count": null,
   "id": "6f1a3068",
   "metadata": {
    "collapsed": false
   },
   "outputs": [],
   "source": [
    "# Input a number\n",
    "x = int(input(\"Please enter an integer: \"))\n",
    "\n",
    "# Check if it is negative... \n",
    "if x < 0:\n",
    "    x = 0\n",
    "    print('Negative changed to zero')\n",
    "\n",
    "# ... if it is zero\n",
    "elif x == 0:\n",
    "    print('Zero')\n",
    "\n",
    "# ... if it is one\n",
    "elif x == 1:\n",
    "    print('Single')\n",
    "\n",
    "# ... or if it is anything else\n",
    "else:\n",
    "    print('More')"
   ]
  },
  {
   "cell_type": "markdown",
   "id": "c5416f22",
   "metadata": {},
   "source": [
    "There can be zero or more elif parts, and the else part is optional. \n",
    "The keyword ‘elif’ is short for ‘else if’, and is useful to avoid excessive \n",
    "indentation. An if … elif … elif … sequence is a substitute for the switch or \n",
    "case statements found in other languages.\n",
    "\n",
    "\n",
    "## 2.2. for Statements\n",
    "\n",
    "The for statement in Python differs a bit from what you may be used to in C or Pascal. \n",
    "Rather than always iterating over an arithmetic progression of numbers (like in Pascal), or giving the user the ability to define both the iteration step and halting condition (as C), Python’s for statement iterates over the items of any sequence (a list or a string), in the order that they appear in the sequence. For example (no pun intended):"
   ]
  },
  {
   "cell_type": "code",
   "execution_count": null,
   "id": "067dd0a6",
   "metadata": {
    "collapsed": false
   },
   "outputs": [],
   "source": [
    "# Measure some strings:\n",
    "words = ['cat', 'window', 'defenestrate']\n",
    "\n",
    "for word in words:\n",
    "    print(word, len(word))"
   ]
  },
  {
   "cell_type": "code",
   "execution_count": null,
   "id": "3277492a",
   "metadata": {
    "collapsed": false
   },
   "outputs": [],
   "source": [
    "words = ['cat', 'window', 'defenestrate']\n",
    "\n",
    "for word in words:\n",
    "    if word == 'cat':\n",
    "        print(word, len(word))"
   ]
  },
  {
   "cell_type": "markdown",
   "id": "3a900255",
   "metadata": {},
   "source": [
    "## 2.3. The range() Function\n",
    "\n",
    "If you do need to iterate over a sequence of numbers, the built-in function range() comes in handy.\n",
    "It generates arithmetic progressions:"
   ]
  },
  {
   "cell_type": "code",
   "execution_count": null,
   "id": "6805e9c0",
   "metadata": {
    "collapsed": false
   },
   "outputs": [],
   "source": [
    "for i in range(5):\n",
    "    print(i)"
   ]
  },
  {
   "cell_type": "markdown",
   "id": "16f45a15",
   "metadata": {},
   "source": [
    "The given end point is never part of the generated sequence; range(10) generates 10 values, the \n",
    "legal indices for items of a sequence of length 10. It is possible to let the range start at another number, or to specify a different increment (even negative; sometimes this is called the ‘step’):"
   ]
  },
  {
   "cell_type": "code",
   "execution_count": null,
   "id": "8c733d72",
   "metadata": {
    "collapsed": false
   },
   "outputs": [],
   "source": [
    "print(list(range(5, 10)))"
   ]
  },
  {
   "cell_type": "code",
   "execution_count": null,
   "id": "6db420a5",
   "metadata": {
    "collapsed": false
   },
   "outputs": [],
   "source": [
    "print(list(range(0, 10, 3)))"
   ]
  },
  {
   "cell_type": "code",
   "execution_count": null,
   "id": "6bbd87ab",
   "metadata": {
    "collapsed": false
   },
   "outputs": [],
   "source": [
    "print(list(range(-10, -100, -30)))"
   ]
  },
  {
   "cell_type": "markdown",
   "id": "5a927d52",
   "metadata": {},
   "source": [
    "To iterate over the indices of a sequence, you can combine range() and len() as follows:"
   ]
  },
  {
   "cell_type": "code",
   "execution_count": null,
   "id": "1a4a1534",
   "metadata": {
    "collapsed": false
   },
   "outputs": [],
   "source": [
    "a = ['Mary', 'had', 'a', 'little', 'lamb']\n",
    "for i in range(len(a)):\n",
    "    print(i, a[i])"
   ]
  },
  {
   "cell_type": "markdown",
   "id": "c0bd55b0",
   "metadata": {},
   "source": [
    "In most such cases, however, it is convenient to use the enumerate() function, \n",
    "which provides both indexing and item"
   ]
  },
  {
   "cell_type": "code",
   "execution_count": null,
   "id": "baf23348",
   "metadata": {
    "collapsed": false
   },
   "outputs": [],
   "source": [
    "words = ['cat', 'window', 'defenestrate']\n",
    "\n",
    "for i, word in enumerate(words):\n",
    "    print(i, word, words[i], len(word))"
   ]
  },
  {
   "cell_type": "markdown",
   "id": "d459befb",
   "metadata": {},
   "source": [
    "A strange thing happens if you just print a range:"
   ]
  },
  {
   "cell_type": "code",
   "execution_count": null,
   "id": "8af5c5df",
   "metadata": {
    "collapsed": false
   },
   "outputs": [],
   "source": [
    "range(10)"
   ]
  },
  {
   "cell_type": "markdown",
   "id": "3223146d",
   "metadata": {},
   "source": [
    "In many ways the object returned by range() behaves as if it is a list, but in fact it isn’t. \n",
    "It is an object which returns the successive items of the desired sequence when you iterate over it, \n",
    "but it doesn’t really make the list, thus saving space.\n",
    "\n",
    "We say such an object is iterable, that is, suitable as a target for functions and constructs that expect \n",
    "something from which they can obtain successive items until the supply is exhausted. We have seen that the for statement is such a construct, while an example of a function that takes an iterable is sum():"
   ]
  },
  {
   "cell_type": "code",
   "execution_count": null,
   "id": "56242ef8",
   "metadata": {
    "collapsed": false
   },
   "outputs": [],
   "source": [
    "sum(range(4))  # 0 + 1 + 2 + 3"
   ]
  },
  {
   "cell_type": "markdown",
   "id": "1f451021",
   "metadata": {},
   "source": [
    "Later we will see more functions that return iterables and take iterables as arguments. \n",
    "In tutorial Data Structures, we will discuss in more detail about list()."
   ]
  },
  {
   "cell_type": "markdown",
   "id": "33d7dcf1",
   "metadata": {},
   "source": [
    "## 2.4. Defining Functions\n",
    "\n",
    "### 2.4.1. The basics"
   ]
  },
  {
   "cell_type": "markdown",
   "id": "69ed7fa7",
   "metadata": {},
   "source": [
    "We can create a function that writes the Fibonacci series to an arbitrary boundary:"
   ]
  },
  {
   "cell_type": "code",
   "execution_count": null,
   "id": "3bdb9a1a",
   "metadata": {
    "collapsed": false
   },
   "outputs": [],
   "source": [
    "def fib(n):    # write Fibonacci series up to n\n",
    "    \"\"\"Print a Fibonacci series up to n.\"\"\"\n",
    "    a, b = 0, 1\n",
    "    while a < n:\n",
    "        print(a, end=' ')\n",
    "        a, b = b, a+b\n",
    "    print()   # print extra empty line"
   ]
  },
  {
   "cell_type": "code",
   "execution_count": null,
   "id": "40dd9a99",
   "metadata": {
    "collapsed": false
   },
   "outputs": [],
   "source": [
    "# Now call the function we just defined:\n",
    "fib(2000)"
   ]
  },
  {
   "cell_type": "markdown",
   "id": "b3e3121b",
   "metadata": {},
   "source": [
    "The keyword `def` introduces a function definition. It must be followed by the function name and the parenthesized \n",
    "list of formal parameters. The statements that form the body of the function start at the next line, and must be indented.\n",
    "\n",
    "The first statement of the function body can optionally be a string literal; this string literal is the \n",
    "function’s documentation string, or docstring. \n",
    "\n",
    "New values created inside the function are deleted after ending the execution"
   ]
  },
  {
   "cell_type": "code",
   "execution_count": null,
   "id": "05ac87da",
   "metadata": {
    "collapsed": false
   },
   "outputs": [],
   "source": [
    "fib(6)\n",
    "print(a)"
   ]
  },
  {
   "cell_type": "markdown",
   "id": "f6d00ac1",
   "metadata": {},
   "source": [
    "You might object that fib is not a function but a procedure since it doesn’t \n",
    "__return__ a value. In fact, even functions without a `return` statement do return \n",
    "a value called `None` (it’s a built-in name). \n",
    "Writing the value `None` is normally suppressed by the interpreter if it would be the only value written. \n",
    "You can see it if you really want to using print():"
   ]
  },
  {
   "cell_type": "code",
   "execution_count": null,
   "id": "d265b372",
   "metadata": {
    "collapsed": false
   },
   "outputs": [],
   "source": [
    "print(fib(0))"
   ]
  },
  {
   "cell_type": "markdown",
   "id": "da85b6ed",
   "metadata": {},
   "source": [
    "It is simple to write a function that returns a list of the numbers of the Fibonacci series, instead of printing it:"
   ]
  },
  {
   "cell_type": "code",
   "execution_count": null,
   "id": "4ec9b270",
   "metadata": {
    "collapsed": false
   },
   "outputs": [],
   "source": [
    "def fib2(n):  # return Fibonacci series up to n\n",
    "\n",
    "    \"\"\"Return a list containing the Fibonacci series up to n.\"\"\"\n",
    "    result = []\n",
    "    a, b = 0, 1\n",
    "    while a < n:\n",
    "        result.append(a)    # see below\n",
    "        a, b = b, a+b\n",
    "    return result\n",
    "\n",
    "f100 = fib2(100)    # call it\n",
    "print(f100)         # write the result"
   ]
  },
  {
   "cell_type": "markdown",
   "id": "ede40394",
   "metadata": {},
   "source": [
    "This example, as usual, demonstrates some new Python features:\n",
    "\n",
    "* The return statement returns with a value from a function. return without an expression \n",
    "argument returns None.\n",
    "\n",
    "* The statement `result.append(a)` calls a __method__ of the list object `result`. A method is a \n",
    "function that ‘belongs’ to an object and is named `obj.methodname`.\n",
    " The method `append()` shown in the example is defined for list objects; it adds a new element at the end of\n",
    "  the list. In this example it is equivalent to `result = result + [a]`, but more efficient."
   ]
  },
  {
   "cell_type": "markdown",
   "id": "537cd662",
   "metadata": {},
   "source": [
    "It is also possible to define functions with a variable number of arguments. There are three forms, which can be combined."
   ]
  },
  {
   "cell_type": "markdown",
   "id": "7f83bd46",
   "metadata": {},
   "source": [
    "### 2.4.2. Default Argument Values\n",
    "The most useful form is to specify a default value for one or more arguments. This creates a function that \n",
    "can be called with fewer arguments than it is defined to allow. For example:"
   ]
  },
  {
   "cell_type": "code",
   "execution_count": null,
   "id": "d7731755",
   "metadata": {
    "collapsed": false
   },
   "outputs": [],
   "source": [
    "def ask_ok(prompt, retries=4, reminder='Please try again!'):\n",
    "    while True:\n",
    "        ok = input(prompt)\n",
    "\n",
    "        if ok in ('y', 'ye', 'yes'):\n",
    "            return True\n",
    "\n",
    "        if ok in ('n', 'no', 'nop', 'nope'):\n",
    "            return False\n",
    "\n",
    "        retries = retries - 1\n",
    "        if retries < 0:\n",
    "            raise ValueError('invalid user response')\n",
    "\n",
    "        print(reminder)"
   ]
  },
  {
   "cell_type": "markdown",
   "id": "3d081a98",
   "metadata": {},
   "source": [
    "This function can be called in several ways:\n",
    "* giving only the mandatory argument: `ask_ok('Do you really want to quit?')`\n",
    "* giving one of the optional arguments: `ask_ok('OK to overwrite the file?', 2)`\n",
    "* or even giving all arguments: `ask_ok('OK to overwrite the file?', 2, 'Come on, only yes or no!')`"
   ]
  },
  {
   "cell_type": "code",
   "execution_count": null,
   "id": "9afb2968",
   "metadata": {
    "collapsed": false
   },
   "outputs": [],
   "source": [
    "ask_ok('Do you really want to quit?')"
   ]
  },
  {
   "cell_type": "code",
   "execution_count": null,
   "id": "db193a94",
   "metadata": {
    "collapsed": false
   },
   "outputs": [],
   "source": [
    "ask_ok('OK to overwrite the file?', 2)"
   ]
  },
  {
   "cell_type": "code",
   "execution_count": null,
   "id": "e289b4c8",
   "metadata": {
    "collapsed": false
   },
   "outputs": [],
   "source": [
    "ask_ok('OK to overwrite the file?', 2, 'Come on, only yes or no!')"
   ]
  },
  {
   "cell_type": "markdown",
   "id": "70cfb5e8",
   "metadata": {},
   "source": [
    "This example also introduces the `in` keyword. This tests whether or not a sequence contains a certain value."
   ]
  },
  {
   "cell_type": "code",
   "execution_count": null,
   "id": "4da5f61a",
   "metadata": {
    "collapsed": false
   },
   "outputs": [],
   "source": [
    "print('a' in 'asdf')"
   ]
  },
  {
   "cell_type": "code",
   "execution_count": null,
   "id": "d9958401",
   "metadata": {
    "collapsed": false
   },
   "outputs": [],
   "source": [
    "print(1 in [1,2,3])"
   ]
  },
  {
   "cell_type": "code",
   "execution_count": null,
   "id": "0d476030",
   "metadata": {
    "collapsed": false
   },
   "outputs": [],
   "source": [
    "print(0 in [1,2,3])"
   ]
  },
  {
   "cell_type": "markdown",
   "id": "0ef9af00",
   "metadata": {},
   "source": [
    "### 2.4.3. Keyword Arguments\n",
    "Functions can also be called using keyword arguments of the form kwarg=value. For instance, the following function:"
   ]
  },
  {
   "cell_type": "code",
   "execution_count": null,
   "id": "d67b2c4d",
   "metadata": {
    "collapsed": false
   },
   "outputs": [],
   "source": [
    "def myself(name, age=20, country='Spain'):\n",
    "    print('Hi, I\\'m', name, ', I\\'m', age, 'years old and I live in', country)"
   ]
  },
  {
   "cell_type": "markdown",
   "id": "70d28d57",
   "metadata": {},
   "source": [
    "accepts one required argument (`voltage`) and three optional arguments (`state`, `action`, and `type`). \n",
    "This function can be called in any of the following ways:"
   ]
  },
  {
   "cell_type": "code",
   "execution_count": null,
   "id": "34689a4a",
   "metadata": {
    "collapsed": false
   },
   "outputs": [],
   "source": [
    "myself('Andrea')                     # 1 positional argument"
   ]
  },
  {
   "cell_type": "code",
   "execution_count": null,
   "id": "5a44ba29",
   "metadata": {
    "collapsed": false
   },
   "outputs": [],
   "source": [
    "myself(name='Andrea')                # 1 keyword argument"
   ]
  },
  {
   "cell_type": "code",
   "execution_count": null,
   "id": "141f012f",
   "metadata": {
    "collapsed": false
   },
   "outputs": [],
   "source": [
    "myself(name='Andrea', age=25)        # 2 keyword arguments"
   ]
  },
  {
   "cell_type": "code",
   "execution_count": null,
   "id": "91375ce0",
   "metadata": {
    "collapsed": false
   },
   "outputs": [],
   "source": [
    "myself(age=25, name='Andrea')        # 2 keyword arguments"
   ]
  },
  {
   "cell_type": "code",
   "execution_count": null,
   "id": "384591c8",
   "metadata": {
    "collapsed": false
   },
   "outputs": [],
   "source": [
    "myself('Andrea', 27, 'Russia')       # 3 positional arguments"
   ]
  },
  {
   "cell_type": "code",
   "execution_count": null,
   "id": "73e506cd",
   "metadata": {
    "collapsed": false
   },
   "outputs": [],
   "source": [
    "myself('Andrea', country='Russia')   # 1 positional, 1 keyword"
   ]
  },
  {
   "cell_type": "markdown",
   "id": "27b3a209",
   "metadata": {},
   "source": [
    "These won't work:"
   ]
  },
  {
   "cell_type": "code",
   "execution_count": null,
   "id": "db7b2d3a",
   "metadata": {
    "collapsed": false
   },
   "outputs": [],
   "source": [
    "myself()                               # required argument missing"
   ]
  },
  {
   "cell_type": "code",
   "execution_count": null,
   "id": "03898a8a",
   "metadata": {
    "collapsed": false
   },
   "outputs": [],
   "source": [
    "myself('Andrea', name='Andrea')        # duplicate value for the same argument"
   ]
  },
  {
   "cell_type": "code",
   "execution_count": null,
   "id": "4da54078",
   "metadata": {
    "collapsed": false
   },
   "outputs": [],
   "source": [
    "myself(surname='Navas')                # unknown keyword argument"
   ]
  },
  {
   "cell_type": "markdown",
   "id": "85e9684f",
   "metadata": {},
   "source": [
    "# Exercise"
   ]
  },
  {
   "cell_type": "markdown",
   "id": "b33fad30",
   "metadata": {},
   "source": [
    "Create a function `over_threshold` that receives a list of numbers as input and \n",
    "outputs a list only with the indexes of those above a certain `threshold`,\n",
    "which can be an optional second input"
   ]
  },
  {
   "cell_type": "code",
   "execution_count": null,
   "id": "feba384c",
   "metadata": {
    "collapsed": false
   },
   "outputs": [],
   "source": [
    "'''\n",
    "Write here your code. \n",
    "Dont forget to write the inputs and substitute None with the proper output\n",
    "'''\n",
    "def over_threshold():\n",
    "    return None"
   ]
  },
  {
   "cell_type": "code",
   "execution_count": null,
   "id": "43e2b6d7",
   "metadata": {
    "collapsed": false
   },
   "outputs": [],
   "source": [
    "# Try your function here\n",
    "ripple_prob = [ 0.1, 0.2, 0.5, 0.8, 0.8, 0.6, 0.3, 0.5, 0.6, 0.9, 0.7, 0.4, 0.0 ]\n",
    "idxs_ripples = over_threshold(ripple_prob, threshold=0.75)\n",
    "\n",
    "print(idxs_ripples) # Should be [3, 4, 9]"
   ]
  }
 ],
 "metadata": {},
 "nbformat": 4,
 "nbformat_minor": 5
}
