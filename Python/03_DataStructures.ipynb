{
 "cells": [
  {
   "cell_type": "markdown",
   "id": "7dd6cf96",
   "metadata": {},
   "source": [
    "# 3. Data Structures\n",
    "\n",
    "This tutorial describes some things you’ve learned about already in more detail, \n",
    "and adds some new things as well.\n",
    "\n",
    "Complete tutorial: <a href=\"https://docs.python.org/3/tutorial/datastructures.html\" target=\"_blank\">Data Structures </a>"
   ]
  },
  {
   "cell_type": "markdown",
   "id": "307085d4",
   "metadata": {},
   "source": [
    "## 3.1 More on Lists\n",
    "\n",
    "### 3.1.1 More methods\n",
    "The list data type has some more methods. Here are some of the methods of list objects:\n",
    "\n",
    "list.__append__(x)\n",
    "    Add an item to the end of the list. Equivalent to `a[len(a):] = [x]`.\n",
    "\n",
    "list.__insert__(i, x)\n",
    "    Insert an item at a given position. The first argument is the index of the element before which to insert, so a.insert(0, x) inserts at the front of the list, and a.insert(len(a), x) is equivalent to `a.append(x)`.\n",
    "\n",
    "list.__remove__(x)\n",
    "    Remove the first item from the list whose value is equal to x. It raises a ValueError if there is no such item.\n",
    "\n",
    "list.__pop__([i])\n",
    "    Remove the item at the given position in the list, and return it. If no index is specified, a.pop() removes and returns the last item in the list. (The square brackets around the i in the method signature denote that the parameter is optional, not that you should type square brackets at that position. You will see this notation frequently in the Python Library Reference.)\n",
    "\n",
    "list.__clear__()\n",
    "    Remove all items from the list. Equivalent to `del a[:]`.\n",
    "\n",
    "list.__index__(x[, start[, end]])\n",
    "    Return zero-based index in the list of the first item whose value is equal to `x`. Raises a ValueError if there is no such item.\n",
    "\n",
    "list.__count__(x)\n",
    "    Return the number of times x appears in the list.\n",
    "\n",
    "list.__sort__(*, key=None, reverse=False)\n",
    "    Sort the items of the list in place (the arguments can be used for sort customization.\n",
    "\n",
    "list.__reverse__()\n",
    "    Reverse the elements of the list in place.\n",
    "\n",
    "list.__copy__()\n",
    "    Return a shallow copy of the list. Equivalent to `a[:]`.\n",
    "\n",
    "An example that uses most of the list methods:"
   ]
  },
  {
   "cell_type": "code",
   "execution_count": null,
   "id": "62236a1d",
   "metadata": {},
   "outputs": [],
   "source": [
    "fruits = ['orange', 'apple', 'pear', 'banana', 'kiwi', 'apple', 'banana']\n",
    "\n",
    "# Count every fruit\n",
    "for fruit in fruits:\n",
    "    print('There are', fruits.count(fruit), fruit+'s')\n",
    "\n",
    "# No tangerines\n",
    "print('There are', fruits.count('tangerine'), 'tangerines')"
   ]
  },
  {
   "cell_type": "code",
   "execution_count": null,
   "id": "3a4a49fe",
   "metadata": {},
   "outputs": [],
   "source": [
    "print('Index where there is bananas:', fruits.index('banana'))\n",
    "print('Index where there is bananas:', fruits.index('banana', 4))  # Find next banana starting a position 4"
   ]
  },
  {
   "cell_type": "code",
   "execution_count": null,
   "id": "c67f52e2",
   "metadata": {},
   "outputs": [],
   "source": [
    "fruits.sort()\n",
    "print('Fruits sorted by letter:', fruits)"
   ]
  },
  {
   "cell_type": "code",
   "execution_count": null,
   "id": "171f3e26",
   "metadata": {},
   "outputs": [],
   "source": [
    "fruits.reverse()\n",
    "print('Reverse our list:', fruits)"
   ]
  },
  {
   "cell_type": "code",
   "execution_count": null,
   "id": "9913c9c3",
   "metadata": {},
   "outputs": [],
   "source": [
    "fruits.append('grape')\n",
    "print('Add grape to the list:', fruits)"
   ]
  },
  {
   "cell_type": "code",
   "execution_count": null,
   "id": "0d550cd5",
   "metadata": {},
   "outputs": [],
   "source": [
    "poped_fruit = fruits.pop()\n",
    "print('Poped fruit:', poped_fruit)\n",
    "print('Fruits list now:', fruits)"
   ]
  },
  {
   "cell_type": "markdown",
   "id": "483ee9b6",
   "metadata": {},
   "source": [
    "## 3.1.2 List comprehensions\n",
    "List comprehensions provide a concise way to create lists. \n",
    "Common applications are to make new lists where each element is the\n",
    "result of some operations applied to each member of another sequence or iterable, \n",
    "or to create a subsequence of those elements that satisfy a certain condition.\n",
    "\n",
    "For example, assume we want to create a list of squares, like:"
   ]
  },
  {
   "cell_type": "code",
   "execution_count": null,
   "id": "3fcd9ec6",
   "metadata": {},
   "outputs": [],
   "source": [
    "squares = []\n",
    "for x in range(10):\n",
    "    squares.append(x**2)\n",
    "\n",
    "print(squares)"
   ]
  },
  {
   "cell_type": "markdown",
   "id": "8cff4287",
   "metadata": {},
   "source": [
    "Note that this creates (or overwrites) a variable named x that still exists after the loop completes.\n",
    "We can calculate the list of squares without any side effects using:"
   ]
  },
  {
   "cell_type": "code",
   "execution_count": null,
   "id": "5a0090bc",
   "metadata": {},
   "outputs": [],
   "source": [
    "squares = [x**2 for x in range(10)]"
   ]
  },
  {
   "cell_type": "markdown",
   "id": "d10886c5",
   "metadata": {},
   "source": [
    "which is more concise and readable.\n",
    "\n",
    "A list comprehension consists of brackets containing an expression followed by a \n",
    "for clause, then zero or more for or if clauses. The result will be a new list resulting\n",
    "from evaluating the expression in the context of the for and if clauses which follow it.\n",
    "\n",
    " For example, this listcomp combines the elements of two lists if they are equal:"
   ]
  },
  {
   "cell_type": "code",
   "execution_count": null,
   "id": "810398e4",
   "metadata": {},
   "outputs": [],
   "source": [
    "#       v                v                v    v     \n",
    "[(x, y) for x in [1,2,3] for y in [3,1,4] if x == y]"
   ]
  },
  {
   "cell_type": "markdown",
   "id": "4f90b32b",
   "metadata": {},
   "source": [
    ".. and same if they are not equal:"
   ]
  },
  {
   "cell_type": "code",
   "execution_count": null,
   "id": "df1b161e",
   "metadata": {},
   "outputs": [],
   "source": [
    "#       v                v                v    v    \n",
    "[(x, y) for x in [1,2,3] for y in [3,1,4] if x != y]"
   ]
  },
  {
   "cell_type": "markdown",
   "id": "defe484a",
   "metadata": {},
   "source": [
    "and it’s equivalent to:"
   ]
  },
  {
   "cell_type": "code",
   "execution_count": null,
   "id": "0df0864e",
   "metadata": {},
   "outputs": [],
   "source": [
    "combs = []\n",
    "for x in [1,2,3]:\n",
    "    for y in [3,1,4]:\n",
    "        if x != y:\n",
    "            combs.append((x, y))\n",
    "\n",
    "print(combs)"
   ]
  },
  {
   "cell_type": "markdown",
   "id": "fb28e6c3",
   "metadata": {},
   "source": [
    "Note how the order of the for and if statements is the same in both these snippets."
   ]
  },
  {
   "cell_type": "markdown",
   "id": "c0cfb0be",
   "metadata": {},
   "source": [
    "### Exercise\n",
    "Make a list with the indexes of the sessions that have a \n",
    "ripple probability over a threshold"
   ]
  },
  {
   "cell_type": "code",
   "execution_count": null,
   "id": "332e905a",
   "metadata": {},
   "outputs": [],
   "source": [
    "rip_prob_session_1 = [0.5, 0.7, 0.9, 0.5, 0.3]\n",
    "rip_prob_session_2 = [0.2, 0.0, 0.1, 0.4, 0.4]\n",
    "rip_prob_session_3 = [0.4, 0.5, 0.6, 0.7, 0.8]\n",
    "\n",
    "# List of lists\n",
    "rip_prob_all_sessions = [rip_prob_session_1, \n",
    "                         rip_prob_session_2, \n",
    "                         rip_prob_session_3]\n",
    "\n",
    "# This is how the list of lists looks like\n",
    "print(rip_prob_all_sessions)"
   ]
  },
  {
   "cell_type": "code",
   "execution_count": null,
   "id": "81c64321",
   "metadata": {},
   "outputs": [],
   "source": [
    "threshold = 0.7\n",
    "\n",
    "# Write your code here\n",
    "flatten_list = [  ]"
   ]
  },
  {
   "cell_type": "markdown",
   "id": "b1ddaa2c",
   "metadata": {},
   "source": [
    "## 3.1.3 Nested List comprehensions\n",
    "The initial expression in a list comprehension can be any \n",
    "arbitrary expression, including another list comprehension.\n",
    "\n",
    "Consider a list of timestamps, and we want to make a list of lists\n",
    "containing an interval of timestamps centered in those of our list"
   ]
  },
  {
   "cell_type": "code",
   "execution_count": null,
   "id": "1108b280",
   "metadata": {},
   "outputs": [],
   "source": [
    "# Defining our variables\n",
    "timestamps_tagged_ripples = [100, 2500, 4003, 5789]\n",
    "interval = 2\n",
    "\n",
    "# Our list of intervals of timestamps centered at ripple times\n",
    "interval_ripples = [ [timestamp+i for i in range(-interval, interval+1)] \n",
    "                     for timestamp in timestamps_tagged_ripples ]\n",
    "\n",
    "print(interval_ripples)"
   ]
  },
  {
   "cell_type": "markdown",
   "id": "e42b850c",
   "metadata": {},
   "source": [
    "## 3.2 Tuples\n",
    "A tuple consists of a number of values separated by commas, for instance:"
   ]
  },
  {
   "cell_type": "code",
   "execution_count": null,
   "id": "fb639111",
   "metadata": {},
   "outputs": [],
   "source": [
    "t = 12345, 54321, 'hello!'\n",
    "print('t:', t)\n",
    "print('t[0]', t[0])"
   ]
  },
  {
   "cell_type": "markdown",
   "id": "45625edc",
   "metadata": {},
   "source": [
    "They are immutable"
   ]
  },
  {
   "cell_type": "code",
   "execution_count": null,
   "id": "39182c53",
   "metadata": {},
   "outputs": [],
   "source": [
    "t = 12345, 54321, 'hello!'\n",
    "t[0] = 1"
   ]
  },
  {
   "cell_type": "markdown",
   "id": "2acc823c",
   "metadata": {},
   "source": [
    "They can be nested"
   ]
  },
  {
   "cell_type": "code",
   "execution_count": null,
   "id": "c2ea2df4",
   "metadata": {},
   "outputs": [],
   "source": [
    "t = (12345, 54321), 'hello!'\n",
    "print('t =', t)\n",
    "print('t[0] =', t[0])"
   ]
  },
  {
   "cell_type": "markdown",
   "id": "85bb2ec8",
   "metadata": {},
   "source": [
    "We can assign different variables to each element"
   ]
  },
  {
   "cell_type": "code",
   "execution_count": null,
   "id": "d3857911",
   "metadata": {},
   "outputs": [],
   "source": [
    "t = 12345, 54321, 'hello!'\n",
    "a, b, c = t\n",
    "print('a =', a)\n",
    "print('b =', b)\n",
    "print('c =', c)"
   ]
  },
  {
   "cell_type": "markdown",
   "id": "7e782411",
   "metadata": {},
   "source": [
    "In fact this is what happens when we return multiple arguments of a function"
   ]
  },
  {
   "cell_type": "code",
   "execution_count": null,
   "id": "4a786b2f",
   "metadata": {},
   "outputs": [],
   "source": [
    "def many_outputs():\n",
    "    output_1 = 'a'\n",
    "    output_2 = 'b'\n",
    "    output_3 = 'c'\n",
    "    output_4 = 'd'\n",
    "    return output_1, output_2, output_3, output_4\n",
    "\n",
    "# Let's see the output\n",
    "x = many_outputs()\n",
    "print('x =', x)\n",
    "\n",
    "# Can we \"desnest\" it?\n",
    "x1, x2, x3, x4 = many_outputs()\n",
    "print('x1 =', x1)\n",
    "print('x2 =', x2)\n",
    "print('x3 =', x3)\n",
    "print('x4 =', x4)"
   ]
  },
  {
   "cell_type": "markdown",
   "id": "769a675a",
   "metadata": {},
   "source": [
    "## 3.3 Dictionaries\n",
    "Another useful data type built into Python is the dictionary\n",
    "Unlike sequences, which are indexed by a range of numbers, dictionaries are indexed by keys\n",
    "\n",
    "It is best to think of a dictionary as a set of key: value pairs, with the requirement\n",
    "that the keys are unique (within one dictionary). A pair of braces creates an empty dictionary: \n",
    "{}. Placing a comma-separated list of key:value pairs within the braces adds initial key:value \n",
    "pairs to the dictionary; this is also the way dictionaries are written on output.\n",
    "\n",
    "Performing list(d) on a dictionary returns a list of all the keys used in the dictionary, \n",
    "in insertion order (if you want it sorted, just use sorted(d) instead). To check whether a \n",
    "single key is in the dictionary, use the in keyword.\n",
    "\n",
    "Here is a small example using a dictionary:"
   ]
  },
  {
   "cell_type": "code",
   "execution_count": null,
   "id": "dc63030d",
   "metadata": {},
   "outputs": [],
   "source": [
    "performances = {'method_1': 0.5, \n",
    "                'method_2': 0.2,\n",
    "                'method_3': 0.8}\n",
    "\n",
    "# Print diccionary\n",
    "print('performances = ', performances)\n",
    "\n",
    "# Print keys\n",
    "print('List of keys of performances = ', list(performances))\n",
    "print('Sorted keys of performances = ', sorted(performances))\n",
    "print('Calling .keys() method = ', performances.keys())\n",
    "\n",
    "# Check if there is a key in our dictionary\n",
    "for method_name in ['method_1', 'method_4']:\n",
    "    is_in = method_name in performances\n",
    "    print('Is '+method_name+'?', is_in)"
   ]
  },
  {
   "cell_type": "code",
   "execution_count": null,
   "id": "16bba299",
   "metadata": {},
   "outputs": [],
   "source": [
    "performances = {'method_1': [0.5, 0.4], \n",
    "                'method_2': [0.2, 0.2],\n",
    "                'method_3': [0.8, 0.1]}\n",
    "\n",
    "# Print values of each method\n",
    "for method in performances:\n",
    "    for p in performances[method]:\n",
    "        print(method, p)"
   ]
  },
  {
   "cell_type": "markdown",
   "id": "e228143a",
   "metadata": {},
   "source": [
    "The dict() constructor builds dictionaries directly from sequences of key-value pairs:"
   ]
  },
  {
   "cell_type": "code",
   "execution_count": null,
   "id": "de434076",
   "metadata": {},
   "outputs": [],
   "source": [
    "dict([('method_1', 0.5), ('method_2', 0.2), ('method_3', 0.8)])"
   ]
  },
  {
   "cell_type": "markdown",
   "id": "d6ff5fd4",
   "metadata": {},
   "source": [
    "In addition, dict comprehensions can be used to create dictionaries from arbitrary\n",
    "key and value expressions:"
   ]
  },
  {
   "cell_type": "code",
   "execution_count": null,
   "id": "8078a066",
   "metadata": {},
   "outputs": [],
   "source": [
    "{x: x**2 for x in (2, 4, 6)}"
   ]
  },
  {
   "cell_type": "markdown",
   "id": "dc54cdf7",
   "metadata": {},
   "source": [
    "## 3.4 Looping techniques"
   ]
  },
  {
   "cell_type": "markdown",
   "id": "18b0ce27",
   "metadata": {},
   "source": [
    "When looping through dictionaries, the key and corresponding value can be retrieved at the \n",
    "same time using the items() method."
   ]
  },
  {
   "cell_type": "code",
   "execution_count": null,
   "id": "98565858",
   "metadata": {},
   "outputs": [],
   "source": [
    "knights = {'gallahad': 'the pure', 'robin': 'the brave'}\n",
    "for k, v in knights.items():\n",
    "    print(k, v)"
   ]
  },
  {
   "cell_type": "markdown",
   "id": "f4205606",
   "metadata": {},
   "source": [
    "When looping through a sequence, the position index and corresponding value can be retrieved \n",
    "at the same time using the enumerate() function (we saw it in last tutorial)"
   ]
  },
  {
   "cell_type": "code",
   "execution_count": null,
   "id": "dce2b5a5",
   "metadata": {},
   "outputs": [],
   "source": [
    "for i, v in enumerate(['tic', 'tac', 'toe']):\n",
    "    print(i, v)"
   ]
  },
  {
   "cell_type": "markdown",
   "id": "1946d0b5",
   "metadata": {},
   "source": [
    "To loop over two or more sequences at the same time, the entries can be paired with the zip() \n",
    "function."
   ]
  },
  {
   "cell_type": "code",
   "execution_count": null,
   "id": "f1e5ef3d",
   "metadata": {},
   "outputs": [],
   "source": [
    "questions = ['name', 'quest', 'favorite color']\n",
    "answers = ['lancelot', 'the holy grail', 'blue']\n",
    "for q, a in zip(questions, answers):\n",
    "    print('What is your {0}?  It is {1}.'.format(q, a))"
   ]
  },
  {
   "cell_type": "markdown",
   "id": "4605c6d5",
   "metadata": {},
   "source": [
    "## Exercise\n",
    "We are exploring different methods to obtain a ripple probability, and we want to know which is the\n",
    "best one. In addition to try several methods, we have also tried different parameters for each method,\n",
    "so we also want to know which combination of method + parameter is the best one.\n",
    "\n",
    "For that, we have stored our results in a dictionary like this:"
   ]
  },
  {
   "cell_type": "code",
   "execution_count": null,
   "id": "a89a1d96",
   "metadata": {},
   "outputs": [],
   "source": [
    "# Dictionary with performances \n",
    "\n",
    "#                Methods         <------  all sessions ------>\n",
    "performances = {'method_1' : [ [.2, .4, .6, .8, .4, .5, .3, .1],   # parameter 0\n",
    "                               [.4, .2, .8, .4, .0, .1, .5, .2],   # parameter 1\n",
    "                               [.2, .8, .7, .4, .8, .7, .9, .8]],  # parameter 2\n",
    "\n",
    "                'method_2' : [ [.6, .4, .6, .5, .5, .4, .6, .6],   # parameter 0\n",
    "                               [.2, .8, .7, .5, .0, .0, .1, .8]],  # parameter 1\n",
    "\n",
    "                'method_3' : [ [.1, .1, .2, .2, .1, .2, .1, .5],   # parameter 0\n",
    "                               [.1, .6, .2, .4, .5, .1, .2, .8],   # parameter 1\n",
    "                               [.8, .6, .8, .9, .4, .1, .2, .8],   # parameter 2\n",
    "                               [.2, .1, .1, .2, .4, .6, .1, .2]],  # parameter 3\n",
    "                }"
   ]
  },
  {
   "cell_type": "markdown",
   "id": "09d2af3f",
   "metadata": {},
   "source": [
    "Try to extract the mean performance of each method and parameter"
   ]
  },
  {
   "cell_type": "code",
   "execution_count": null,
   "id": "a07921b8",
   "metadata": {},
   "outputs": [],
   "source": [
    "# Tip: make a new dictionary with an empty list for each method, \n",
    "#      and append the mean performance of each parameter\n",
    "mean_perfs = {method:[] for method in performances}\n",
    "\n",
    "# Write your code here"
   ]
  }
 ],
 "metadata": {
  "kernelspec": {
   "display_name": "Python 3",
   "language": "python",
   "name": "python3"
  },
  "language_info": {
   "codemirror_mode": {
    "name": "ipython",
    "version": 3
   },
   "file_extension": ".py",
   "mimetype": "text/x-python",
   "name": "python",
   "nbconvert_exporter": "python",
   "pygments_lexer": "ipython3",
   "version": "3.8.5"
  }
 },
 "nbformat": 4,
 "nbformat_minor": 5
}
