{
 "cells": [
  {
   "cell_type": "markdown",
   "id": "ce06bf8b",
   "metadata": {},
   "source": [
    "# 4. Modules\n",
    "\n",
    "Complete tutorial: <a href=\"https://docs.python.org/3/tutorial/modules.html\" target=\"_blank\">Modules </a>\n",
    "\n",
    "If you quit from the Python interpreter and enter it again, the definitions you have made (\n",
    "functions and variables) are lost. Therefore, if you want to write a somewhat longer program, \n",
    "you are better off using a text editor to prepare the input for the interpreter and running it \n",
    "with that file as input instead. This is known as creating a script. As your program gets longer, \n",
    "you may want to split it into several files for easier maintenance. You may also want to use a handy \n",
    "function that you’ve written in several programs without copying its definition into each program.\n",
    "\n",
    "To support this, Python has a way to put definitions in a file and use them in a script or in\n",
    "an interactive instance of the interpreter. Such a file is called a module; definitions from \n",
    "a module can be imported into other modules or into the main module (the collection of variables \n",
    "that you have access to in a script executed at the top level and in calculator mode).\n",
    "\n",
    "A module is a file containing Python definitions and statements.\n",
    "The file name is the module name with the suffix .py appended."
   ]
  },
  {
   "cell_type": "markdown",
   "id": "b15c84d1",
   "metadata": {},
   "source": [
    "# 4.1. Importing modules\n",
    "There is a huge community developing open modules that can be used for multiples tasks.\n",
    "You can use it by installing them.\n",
    "In this tutorial we won't need to install anything, but here are the instructions for \n",
    "if you need it in the hackathon: https://docs.python.org/3/installing/index.html\n",
    "\n",
    "Once it is installed, you need to import it by calling the command \"import\""
   ]
  },
  {
   "cell_type": "code",
   "execution_count": null,
   "id": "bc989b14",
   "metadata": {
    "collapsed": false
   },
   "outputs": [],
   "source": [
    "# Import a module called numpy\n",
    "import numpy"
   ]
  },
  {
   "cell_type": "markdown",
   "id": "2c154c42",
   "metadata": {},
   "source": [
    "We can access its functions by written the name of the module, followed by a dot and the name of the function"
   ]
  },
  {
   "cell_type": "code",
   "execution_count": null,
   "id": "620d99b3",
   "metadata": {
    "collapsed": false
   },
   "outputs": [],
   "source": [
    "# Function sum of the numpy module\n",
    "numpy.sum([1, 2])"
   ]
  },
  {
   "cell_type": "markdown",
   "id": "9c75d6d9",
   "metadata": {},
   "source": [
    "The word \"numpy\" seems too long to be using it all the time.\n",
    "We can import it and rename it"
   ]
  },
  {
   "cell_type": "code",
   "execution_count": null,
   "id": "6758c89c",
   "metadata": {
    "collapsed": false
   },
   "outputs": [],
   "source": [
    "import numpy as np\n",
    "np.sum([1, 2])"
   ]
  },
  {
   "cell_type": "markdown",
   "id": "df62c764",
   "metadata": {},
   "source": [
    "In fact, these abbreviations are usually determined and everybody calls them the same,\n",
    "so you won't be seen"
   ]
  },
  {
   "cell_type": "code",
   "execution_count": null,
   "id": "e269963c",
   "metadata": {
    "collapsed": false
   },
   "outputs": [],
   "source": [
    "# NO!  import numpy as num\n",
    "# NO!  import numpy as npy"
   ]
  },
  {
   "cell_type": "markdown",
   "id": "69441844",
   "metadata": {},
   "source": [
    "## 4.2. Scientific Modules (SciPy)\n",
    "It is the main module used on science, maths and engineering. \n",
    "One of the most known is <a href=\"https://www.scipy.org/\" target=\"_blank\">SciPy </a>, \n",
    "which includes several modules, part of which we will see now:"
   ]
  },
  {
   "cell_type": "markdown",
   "id": "d54e6e21",
   "metadata": {},
   "source": [
    "### 4.2.1 NumPy\n",
    "NumPy tutorials:\n",
    "* https://numpy.org/numpy-tutorials/\n",
    "* https://numpy.org/doc/stable/user/whatisnumpy.html\n",
    "\n",
    "NumPy is the fundamental package for scientific computing in Python. It is a Python library \n",
    "that provides a multidimensional array object, various derived objects (such as masked arrays \n",
    "and matrices), and an assortment of routines for fast operations on arrays, including mathematical, \n",
    "logical, shape manipulation, sorting, selecting, I/O, discrete Fourier transforms, basic linear algebra,\n",
    "basic statistical operations, random simulation and much more.\n",
    "\n",
    "Since we have already imported numpy, we don't need to import it again :)"
   ]
  },
  {
   "cell_type": "markdown",
   "id": "32cbd21b",
   "metadata": {},
   "source": [
    "### Numpy Arrays\n",
    "NumPy’s array class is called ndarray. It is also known by the alias array. Note that numpy.array \n",
    "is not the same as the Standard Python Library class array.array, which only handles one-dimensional\n",
    "arrays and offers less functionality. The more important attributes of an ndarray object are:\n",
    "\n",
    "* ndarray.__ndim__\n",
    "\n",
    "  the number of axes (dimensions) of the array.\n",
    "\n",
    "\n",
    "* ndarray.__shape__\n",
    "\n",
    "  the dimensions of the array. This is a tuple of integers indicating the size of the array in each dimension. For a matrix with n rows and m columns, shape will be (n,m). The length of the shape tuple is therefore the number of axes, ndim.\n",
    "\n",
    "\n",
    "* ndarray.__size__\n",
    "\n",
    "  the total number of elements of the array. This is equal to the product of the elements of shape.\n",
    "\n",
    "\n",
    "* ndarray.__dtype__\n",
    "\n",
    "  an object describing the type of the elements in the array. One can create or specify dtype’s using standard Python types. Additionally NumPy provides types of its own. numpy.int32, numpy.int16, and numpy.float64 are some examples.\n",
    "\n",
    "\n",
    "* ndarray.__data__\n",
    "\n",
    "  the buffer containing the actual elements of the array. Normally, we won’t need to use this attribute because we will access the elements in an array using indexing facilities."
   ]
  },
  {
   "cell_type": "code",
   "execution_count": null,
   "id": "2c6daa5e",
   "metadata": {
    "collapsed": false
   },
   "outputs": [],
   "source": [
    "a = np.arange(15).reshape(3, 5)\n",
    "print('a =', a)\n",
    "print()\n",
    "print('a.shape =', a.shape)\n",
    "print('a.ndim =', a.ndim)\n",
    "print('a.dtype.name =', a.dtype.name)\n",
    "print('a.size =', a.size)"
   ]
  },
  {
   "cell_type": "markdown",
   "id": "6b636d14",
   "metadata": {},
   "source": [
    "We can also transform lists to numpy arrays"
   ]
  },
  {
   "cell_type": "code",
   "execution_count": null,
   "id": "e69c5979",
   "metadata": {
    "collapsed": false
   },
   "outputs": [],
   "source": [
    "b_list = [1, 2, 3]\n",
    "b_array = np.array(b_list)\n",
    "print('b_array =', b_array)"
   ]
  },
  {
   "cell_type": "markdown",
   "id": "5af61e99",
   "metadata": {},
   "source": [
    "Even lists of lists, also called matrices"
   ]
  },
  {
   "cell_type": "code",
   "execution_count": null,
   "id": "6aea8b4f",
   "metadata": {
    "collapsed": false
   },
   "outputs": [],
   "source": [
    "c_list = [[1, 2, 3], [4, 5, 6]]\n",
    "c_array = np.array(c_list)\n",
    "print(c_array)"
   ]
  },
  {
   "cell_type": "markdown",
   "id": "a018770d",
   "metadata": {},
   "source": [
    "Then indexing becomes much more simple"
   ]
  },
  {
   "cell_type": "code",
   "execution_count": null,
   "id": "84a29cf8",
   "metadata": {
    "collapsed": false
   },
   "outputs": [],
   "source": [
    "print('c_list[0][1] =', c_list[0][1])\n",
    "print('c_array[0][1] =', c_array[0][1])\n",
    "print('c_array[0, 1] =', c_array[0, 1]) # It's equivalent to the previous line!"
   ]
  },
  {
   "cell_type": "markdown",
   "id": "5d97d8f5",
   "metadata": {},
   "source": [
    "Ok, same as list"
   ]
  },
  {
   "cell_type": "code",
   "execution_count": null,
   "id": "1f4bfc1c",
   "metadata": {
    "collapsed": false
   },
   "outputs": [],
   "source": [
    "print('c_list[0][:] =', c_list[0][:])\n",
    "print('c_array[0, :] =', c_array[0, :])"
   ]
  },
  {
   "cell_type": "markdown",
   "id": "5ed42dd1",
   "metadata": {},
   "source": [
    "Taking one column does not work with lists!"
   ]
  },
  {
   "cell_type": "code",
   "execution_count": null,
   "id": "44aa2d04",
   "metadata": {
    "collapsed": false
   },
   "outputs": [],
   "source": [
    "print('c_list[:][0] =', c_list[:][0])\n",
    "print('c_array[:, 0] =', c_array[:, 0])"
   ]
  },
  {
   "cell_type": "markdown",
   "id": "7e466694",
   "metadata": {},
   "source": [
    "We can take slices very easily"
   ]
  },
  {
   "cell_type": "code",
   "execution_count": null,
   "id": "a91f5759",
   "metadata": {
    "collapsed": false
   },
   "outputs": [],
   "source": [
    "print('c_array[1:3, :2] =', c_array[1:3, :2])\n",
    "print('c_array[1, 1:] =', c_array[1, 1:])"
   ]
  },
  {
   "cell_type": "markdown",
   "id": "fbf930fe",
   "metadata": {},
   "source": [
    "We can see what shape the resuting slice has"
   ]
  },
  {
   "cell_type": "code",
   "execution_count": null,
   "id": "44baa0df",
   "metadata": {
    "collapsed": false
   },
   "outputs": [],
   "source": [
    "print('shape of c_array[1:3, :2] =', c_array[1:3, :2].shape)\n",
    "print('shape of c_array[1, 1:] =', c_array[1, 1:].shape)"
   ]
  },
  {
   "cell_type": "markdown",
   "id": "41235ab9",
   "metadata": {},
   "source": [
    "However, we cannot make matrices with different numbers of elements in each row"
   ]
  },
  {
   "cell_type": "code",
   "execution_count": null,
   "id": "e1b47b37",
   "metadata": {
    "collapsed": false
   },
   "outputs": [],
   "source": [
    "d_list = [ [1,2,3], [4,5,6,7] ]\n",
    "d_array = np.array(d_list)"
   ]
  },
  {
   "cell_type": "markdown",
   "id": "c55eb3d5",
   "metadata": {},
   "source": [
    "### Basic Operations\n",
    "Arithmetic operators on arrays apply elementwise. A new array is created and filled with the result."
   ]
  },
  {
   "cell_type": "code",
   "execution_count": null,
   "id": "fee64c3f",
   "metadata": {
    "collapsed": false
   },
   "outputs": [],
   "source": [
    "a = np.array([20, 30, 40, 50])\n",
    "b = np.arange(4)\n",
    "c = a - b\n",
    "\n",
    "print(a)\n",
    "print(b)\n",
    "print(c)"
   ]
  },
  {
   "cell_type": "markdown",
   "id": "1d2581e1",
   "metadata": {},
   "source": [
    "Operations affect all elements in arrays"
   ]
  },
  {
   "cell_type": "code",
   "execution_count": null,
   "id": "0657b237",
   "metadata": {
    "collapsed": false
   },
   "outputs": [],
   "source": [
    "print(b**2)"
   ]
  },
  {
   "cell_type": "code",
   "execution_count": null,
   "id": "0bc59746",
   "metadata": {
    "collapsed": false
   },
   "outputs": [],
   "source": [
    "print(10 * np.sin(a))"
   ]
  },
  {
   "cell_type": "markdown",
   "id": "975db075",
   "metadata": {},
   "source": [
    "We can check statements also for each element in the array"
   ]
  },
  {
   "cell_type": "code",
   "execution_count": null,
   "id": "a2cff2c0",
   "metadata": {
    "collapsed": false
   },
   "outputs": [],
   "source": [
    "print(a < 35)"
   ]
  },
  {
   "cell_type": "code",
   "execution_count": null,
   "id": "d5594296",
   "metadata": {
    "collapsed": false
   },
   "outputs": [],
   "source": [
    "# Elements less than 35 must be 0\n",
    "a[a < 35] = 0\n",
    "print(a)"
   ]
  },
  {
   "cell_type": "markdown",
   "id": "7b60ebce",
   "metadata": {},
   "source": [
    "We can make matrices of ones, zeros, and random numbers"
   ]
  },
  {
   "cell_type": "code",
   "execution_count": null,
   "id": "268cac42",
   "metadata": {
    "collapsed": false
   },
   "outputs": [],
   "source": [
    "x_ones = np.ones((2, 3), dtype=int)\n",
    "print(x_ones)"
   ]
  },
  {
   "cell_type": "code",
   "execution_count": null,
   "id": "77bf6263",
   "metadata": {
    "collapsed": false
   },
   "outputs": [],
   "source": [
    "x_zeros = np.zeros((2, 3), dtype=float)\n",
    "print(x_zeros)"
   ]
  },
  {
   "cell_type": "code",
   "execution_count": null,
   "id": "f2a3217e",
   "metadata": {
    "collapsed": false
   },
   "outputs": [],
   "source": [
    "x_random01 = np.random.rand(9)\n",
    "x_randnorm = np.random.randn(3, 3)\n",
    "print('Random between 0 and 1\\n', x_random01)\n",
    "print('Random with gaussian distribution\\n', x_randnorm)"
   ]
  },
  {
   "cell_type": "markdown",
   "id": "db8569ed",
   "metadata": {},
   "source": [
    "Many unary operations, such as computing the sum of all the \n",
    "elements in the array, are implemented as methods of the ndarray class."
   ]
  },
  {
   "cell_type": "code",
   "execution_count": null,
   "id": "a3b9558d",
   "metadata": {
    "collapsed": false
   },
   "outputs": [],
   "source": [
    "a = np.random.rand(2, 3)\n",
    "print('sum:', a.sum())\n",
    "print('min:', a.min())\n",
    "print('max:', a.max())\n",
    "print('mean:', a.mean())\n",
    "print('std:', a.std())"
   ]
  },
  {
   "cell_type": "markdown",
   "id": "5a1a0cde",
   "metadata": {},
   "source": [
    "By default, these operations apply to the array as though it were a list of numbers, \n",
    "regardless of its shape. However, by specifying the axis parameter you can apply an\n",
    "operation along the specified axis of an array:"
   ]
  },
  {
   "cell_type": "code",
   "execution_count": null,
   "id": "395e5f80",
   "metadata": {
    "collapsed": false
   },
   "outputs": [],
   "source": [
    "b = np.arange(12).reshape(3, 4)\n",
    "print(b)\n",
    "print('\\nsum of each column\\n', b.sum(axis=0))\n",
    "print('\\nsum of each row\\n', b.sum(axis=1))\n",
    "print('\\nsum of each row, keeping dimensions\\n', b.sum(axis=1, keepdims=True))\n",
    "print('\\nmin of each row\\n', b.min(axis=1))\n",
    "print('\\ncumulative sum along each row\\n', b.cumsum(axis=1))"
   ]
  },
  {
   "cell_type": "markdown",
   "id": "372e3c47",
   "metadata": {},
   "source": [
    "But wait a minute, what is that __reshape__ thingy?"
   ]
  },
  {
   "cell_type": "code",
   "execution_count": null,
   "id": "d87be68b",
   "metadata": {
    "collapsed": false
   },
   "outputs": [],
   "source": [
    "b = np.arange(12)\n",
    "print('b =\\n', b , end='\\n\\n')\n",
    "print('b.reshape(3, 4) =\\n', b.reshape(3, 4), end='\\n\\n')\n",
    "print('b =\\n', b, end='\\n\\n')\n",
    "print('b.reshape(4, 3) =\\n', b.reshape(4, 3), end='\\n\\n')\n",
    "print('b.reshape(1, 12) =\\n', b.reshape(1, 12), end='\\n\\n')\n",
    "print('b.reshape(2, 3, 2) =\\n', b.reshape(2, 3, 2), end='\\n\\n')\n",
    "print('b.reshape(3, -1, 2) =\\n', b.reshape(3, -1, 2), end='\\n\\n')\n",
    "print('b.reshape(3, -1, 2).shape =\\n', b.reshape(3, -1, 2).shape, end='\\n\\n')"
   ]
  },
  {
   "cell_type": "markdown",
   "id": "43bde8a8",
   "metadata": {},
   "source": [
    "If instead of reshape we want to transpose, we can use the built-in function `.T`:"
   ]
  },
  {
   "cell_type": "code",
   "execution_count": null,
   "id": "19a3fa47",
   "metadata": {
    "collapsed": false
   },
   "outputs": [],
   "source": [
    "c = np.arange(12).reshape(3,4)\n",
    "print('c =', c)\n",
    "print('c.T =', c.T)"
   ]
  },
  {
   "cell_type": "markdown",
   "id": "ee4b496a",
   "metadata": {},
   "source": [
    "### Universal Functions\n",
    "NumPy provides familiar mathematical functions such as sin, cos, and exp. \n",
    "In NumPy, these are called “universal functions” (ufunc). Within NumPy, \n",
    "these functions operate elementwise on an array, producing an array as output."
   ]
  },
  {
   "cell_type": "code",
   "execution_count": null,
   "id": "1dd57d89",
   "metadata": {
    "collapsed": false
   },
   "outputs": [],
   "source": [
    "b = np.arange(1,5)\n",
    "print('exp(b) =', np.exp(b), end='\\n\\n')\n",
    "print('sqrt(b) =', np.sqrt(b), end='\\n\\n')\n",
    "print('log(b) =', np.log(b), end='\\n\\n')"
   ]
  },
  {
   "cell_type": "markdown",
   "id": "2d043a1e",
   "metadata": {},
   "source": [
    "Other usefull operations"
   ]
  },
  {
   "cell_type": "code",
   "execution_count": null,
   "id": "6fb32f7b",
   "metadata": {
    "collapsed": false
   },
   "outputs": [],
   "source": [
    "c = np.random.rand(5)\n",
    "\n",
    "# Round\n",
    "print('round(c) =', np.round(c))\n",
    "print('floor(c) =', np.floor(c))\n",
    "print('ceil(c) =', np.ceil(c))\n",
    "print()\n",
    "\n",
    "# Index of...\n",
    "print('index of min =', np.argmin(c))\n",
    "print('index of max =', np.argmax(c))\n",
    "print('indexes of c>0\\n', np.argwhere(c>0))\n",
    "print()\n",
    "print('indexes for sorting =', np.argsort(c))\n",
    "print()\n",
    "\n",
    "# Histogram\n",
    "d = np.array([0, 0, 1, 2, 2, 2, 2, 3, 3])\n",
    "print('In', d)\n",
    "heights, vals = np.histogram(d, np.arange(4))\n",
    "for h, v in zip(heights, vals):\n",
    "    print('... there are %d %ds'%(h, v))"
   ]
  },
  {
   "cell_type": "markdown",
   "id": "ad82bbee",
   "metadata": {},
   "source": [
    "## Exercise\n",
    "Let's go back to our last exercise. We had our results in a dictionary `performances`\n",
    "and we had a mean_perfs dictionary with the mean performance per method and parameter"
   ]
  },
  {
   "cell_type": "code",
   "execution_count": null,
   "id": "48351d7c",
   "metadata": {
    "collapsed": false
   },
   "outputs": [],
   "source": [
    "# Dictionary with performances \n",
    "\n",
    "#                Methods         <------  all sessions ------>\n",
    "performances = {'method_1' : [ [.2, .4, .6, .8, .4, .5, .3, .1],   # parameter 0\n",
    "                               [.4, .2, .8, .4, .0, .1, .5, .2],   # parameter 1\n",
    "                               [.2, .8, .7, .4, .8, .7, .9, .8]],  # parameter 2\n",
    "\n",
    "                'method_2' : [ [.6, .4, .6, .5, .5, .4, .6, .6],   # parameter 0\n",
    "                               [.2, .8, .7, .5, .0, .0, .1, .8]],  # parameter 1\n",
    "\n",
    "                'method_3' : [ [.1, .1, .2, .2, .1, .2, .1, .5],   # parameter 0\n",
    "                               [.1, .6, .2, .4, .5, .1, .2, .8],   # parameter 1\n",
    "                               [.8, .6, .8, .9, .4, .1, .2, .8],   # parameter 2\n",
    "                               [.2, .1, .1, .2, .4, .6, .1, .2]],  # parameter 3\n",
    "                }\n",
    "\n",
    "\n",
    "use_numpy = False\n",
    "\n",
    "# Without numpy it would be:\n",
    "if use_numpy == False:\n",
    "\n",
    "    # Initialize dictionary of mean performances\n",
    "    mean_perfs = {method:[] for method in performances}\n",
    "\n",
    "    # For every method\n",
    "    for method in performances:\n",
    "        for p_param_list in performances[method]:\n",
    "            mean_perfs[method].append( sum(p_param_list) / len(p_param_list) )\n",
    "\n",
    "    # Once we have the mean performances, we take the best parameter \n",
    "    # of each method as well as the best performance\n",
    "    best_params = [ (i, mean_perf) for method in mean_perfs \n",
    "                        for i, mean_perf in enumerate(mean_perfs[method]) \n",
    "                            if mean_perf==max(mean_perfs[method])]\n",
    "\n",
    "    # And finally we take the best method+param of all\n",
    "    best_methodparam = [(j, i)  for j, (i, mean_perf) in enumerate(best_params) \n",
    "                                    if mean_perf == max([best_p[1] for best_p in best_params])]\n",
    "\n",
    "    print('Best method is %s with parameter %d'%( list(performances.keys())[best_methodparam[0][0]], \n",
    "                                                  best_methodparam[0][1]) )\n",
    "\n",
    "# With numpy\n",
    "else:\n",
    "\n",
    "    '''\n",
    "    Try your code here\n",
    "    '''"
   ]
  },
  {
   "cell_type": "markdown",
   "id": "abdb4ef9",
   "metadata": {},
   "source": [
    "### 4.2.2 Pandas\n",
    "Pandas tutorials:\n",
    "* https://pandas.pydata.org/docs/user_guide/index.html\n",
    "* https://pandas.pydata.org/docs/user_guide/10min.html#min\n",
    "pandas is an open source, BSD-licensed library providing high-performance, \n",
    "easy-to-use data structures and data analysis tools for the Python programming language."
   ]
  },
  {
   "cell_type": "code",
   "execution_count": null,
   "id": "c6dc1cea",
   "metadata": {
    "collapsed": false
   },
   "outputs": [],
   "source": [
    "import pandas as pd"
   ]
  },
  {
   "cell_type": "markdown",
   "id": "b204eaa3",
   "metadata": {},
   "source": [
    "Example: I want to store passenger data of the Titanic. For a number of passengers, \n",
    "I know the name (characters), age (integers) and sex (male/female) data."
   ]
  },
  {
   "cell_type": "code",
   "execution_count": null,
   "id": "15630e9e",
   "metadata": {
    "collapsed": false
   },
   "outputs": [],
   "source": [
    "df = pd.DataFrame(\n",
    "    {\n",
    "        \"Name\": [\n",
    "            \"Braund, Mr. Owen Harris\",\n",
    "            \"Allen, Mr. William Henry\",\n",
    "            \"Bonnell, Miss. Elizabeth\",\n",
    "        ],\n",
    "        \"Age\": [22, 35, 58],\n",
    "        \"Sex\": [\"male\", \"male\", \"female\"],\n",
    "    }\n",
    ")\n",
    "\n",
    "print(df)\n",
    "print(df[\"Age\"])"
   ]
  },
  {
   "cell_type": "markdown",
   "id": "5faab91b",
   "metadata": {},
   "source": [
    "Another common usage is loading and saving data in files:"
   ]
  },
  {
   "cell_type": "code",
   "execution_count": null,
   "id": "ae922705",
   "metadata": {
    "collapsed": false
   },
   "outputs": [],
   "source": [
    "# Command to write a csv file\n",
    "df.to_csv('data.csv')\n",
    "\n",
    "# Command to write a csv file\n",
    "df = pd.read_csv('data.csv', index_col=0)"
   ]
  },
  {
   "cell_type": "markdown",
   "id": "ca840479",
   "metadata": {},
   "source": [
    "### 4.2.3 SciPy\n",
    "SciPy tutorials:\n",
    "* https://docs.scipy.org/doc/scipy/reference/tutorial/index.html#user-guide\n",
    "\n",
    "SciPy is a collection of mathematical algorithms and convenience functions built\n",
    " on the NumPy extension of Python. It adds significant power to the interactive \n",
    " Python session by providing the user with high-level commands and classes for \n",
    " manipulating and visualizing data. With SciPy, an interactive Python session becomes \n",
    " a data-processing and system-prototyping environment rivaling systems, such as MATLAB, \n",
    " IDL, Octave, R-Lab, and SciLab.\n",
    "\n",
    "* __cluster__           Clustering algorithms\n",
    "* __constants__         Physical and mathematical constants\n",
    "* __fftpack__           Fast Fourier Transform routines\n",
    "* __integrate__         Integration and ordinary differential equation solvers\n",
    "* __interpolate__       Interpolation and smoothing splines\n",
    "* __io__                Input and Output\n",
    "* __linalg__            Linear algebra\n",
    "* __ndimage__           N-dimensional image processing\n",
    "* __odr__               Orthogonal distance regression\n",
    "* __optimize__          Optimization and root-finding routines\n",
    "* __signal__            Signal processing\n",
    "* __sparse__            Sparse matrices and associated routines\n",
    "* __spatial__           Spatial data structures and algorithms\n",
    "* __special__           Special functions\n",
    "* __stats__             Statistical distributions and functions"
   ]
  },
  {
   "cell_type": "markdown",
   "id": "172c9999",
   "metadata": {},
   "source": [
    "### 4.2.4 Matplotlib\n",
    "Matplotlib tutorials:\n",
    "* https://matplotlib.org/stable/users/index.html\n",
    "\n",
    "Matplotlib is a comprehensive library for creating static, animated, and interactive \n",
    "visualizations in Python."
   ]
  },
  {
   "cell_type": "code",
   "execution_count": null,
   "id": "b98145ea",
   "metadata": {
    "collapsed": false
   },
   "outputs": [],
   "source": [
    "import matplotlib.pyplot as plt"
   ]
  },
  {
   "cell_type": "markdown",
   "id": "65241c4b",
   "metadata": {},
   "source": [
    "Let's create something to plot"
   ]
  },
  {
   "cell_type": "code",
   "execution_count": null,
   "id": "5eb78449",
   "metadata": {
    "collapsed": false
   },
   "outputs": [],
   "source": [
    "fs = 1000 # Hz\n",
    "time = np.arange(0, 4, 1/fs) # seconds\n",
    "LFP = np.sin(time * 2*np.pi) + 0.3*np.sin(time * 7*np.pi) + 0.2*np.sin(time * 20*np.pi) + 0.1*np.random.rand(len(time))\n",
    "true_events = np.array([[1.0, 1.5],\n",
    "                        [2.1, 2.5],\n",
    "                        [3.0, 3.4]])\n",
    "pred_events = np.array([[0.8, 1.2],\n",
    "                        [3.1, 3.5]])"
   ]
  },
  {
   "cell_type": "markdown",
   "id": "5e62ac65",
   "metadata": {},
   "source": [
    "Plot our artificial LFP and true and predicted events"
   ]
  },
  {
   "cell_type": "code",
   "execution_count": null,
   "id": "7726e000",
   "metadata": {
    "collapsed": false
   },
   "outputs": [],
   "source": [
    "plt.figure(figsize=(8, 4))\n",
    "plt.plot(time, LFP, color='k')\n",
    "for event in true_events:\n",
    "    plt.fill_between(event, [-1.5, -1.5], [1.5, 1.5], color='b', alpha=0.2, label='true')\n",
    "for event in pred_events:\n",
    "    plt.fill_between(event, [-1.3, -1.3], [1.8, 1.8], color='g', alpha=0.2, label='pred')\n",
    "plt.legend()\n",
    "plt.xlabel('Time (sec)')\n",
    "plt.ylabel('LFP')\n",
    "plt.title('My plot')\n",
    "# plt.saveas('my_plot.png')"
   ]
  },
  {
   "cell_type": "markdown",
   "id": "9902a750",
   "metadata": {},
   "source": [
    "Plot bar plot of coincidences between true and predicted events"
   ]
  },
  {
   "cell_type": "code",
   "execution_count": null,
   "id": "3565965b",
   "metadata": {
    "collapsed": false
   },
   "outputs": [],
   "source": [
    "# Useful function called Intersection over Union\n",
    "def iou(x, y):\n",
    "    \"\"\"Implement the intersection over union (IoU) between x and x_array\n",
    "    \n",
    "    Arguments:\n",
    "    x -- first segment, numpy array with coordinates (x_ini, x_end)\n",
    "    y -- second segment, numpy array with coordinates (y_ini, y_end)\n",
    "    \"\"\"\n",
    "\n",
    "    # Calculate the (xi1, xi2) coordinates of the intersection of x and x_array. Calculate its duration.\n",
    "    xi1 = np.max([x[0], y[0]])\n",
    "    xi2 = np.min([x[1], y[1]])\n",
    "    inter_duration = np.max(xi2 - xi1, 0)\n",
    "\n",
    "    # Calculate the Union duration by using Formula: Union(A,B) = A + B - Inter(A,B)\n",
    "    x_duration = x[1]-x[0]\n",
    "    x_duration = y[1]-y[0]\n",
    "    union_duration = x_duration + x_duration - inter_duration\n",
    "    \n",
    "    # compute the IoU\n",
    "    iou = inter_duration / union_duration\n",
    "    \n",
    "    return iou\n",
    "\n",
    "# Number of true events detected\n",
    "n_hits = 0\n",
    "\n",
    "# Go through all true events\n",
    "for te in true_events:\n",
    "    # Create a comprehension list with the IoUs of every prediction with this true event\n",
    "    hits = [ (iou(te, pe) > 0.0) for pe in pred_events]\n",
    "    # If there is any hit, then add it to the counter\n",
    "    if any(hits):\n",
    "        n_hits += 1\n",
    "\n",
    "# Plot\n",
    "plt.figure()\n",
    "plt.bar([0, 1], [n_hits, len(true_events)-n_hits], width=0.4)\n",
    "plt.xticks([0, 1], labels=['Hits', 'Bads'])\n",
    "plt.xlim([-1, 2])\n",
    "plt.ylabel('Number of true events')"
   ]
  },
  {
   "cell_type": "markdown",
   "id": "6f727d5e",
   "metadata": {},
   "source": [
    "### 4.2.4 Keras\n",
    "Keras tutorials:\n",
    "* https://keras.io/guides/\n",
    "\n",
    "There are many deep learning frameworks available today, keras is one of them.\n",
    "Others could be:\n",
    "* PyTorch\n",
    "* Scikit learning\n",
    "* Caffe\n",
    "* ...\n",
    "\n",
    "Let's see one example of keras+tensorflow (<a href=\"https://keras.io/examples/vision/mnist_convnet/\" target=\"_blank\">See original example</a>)"
   ]
  },
  {
   "cell_type": "code",
   "execution_count": null,
   "id": "4c3ce162",
   "metadata": {
    "collapsed": false
   },
   "outputs": [],
   "source": [
    "# Import modules\n",
    "import tensorflow.keras as kr\n",
    "from tensorflow.keras import layers"
   ]
  },
  {
   "cell_type": "markdown",
   "id": "22dffaa0",
   "metadata": {},
   "source": [
    "Prepare the data"
   ]
  },
  {
   "cell_type": "code",
   "execution_count": null,
   "id": "ecad6d43",
   "metadata": {
    "collapsed": false
   },
   "outputs": [],
   "source": [
    "# Model / data parameters\n",
    "num_classes = 10\n",
    "input_shape = (28, 28, 1)\n",
    "\n",
    "# the data, split between train and test sets\n",
    "(x_train, y_train), (x_test, y_test) = kr.datasets.mnist.load_data()\n",
    "\n",
    "# Scale images to the [0, 1] range\n",
    "x_train = x_train.astype(\"float32\") / 255\n",
    "x_test = x_test.astype(\"float32\") / 255\n",
    "\n",
    "# Make sure images have shape (28, 28, 1)\n",
    "x_train = np.expand_dims(x_train, -1)\n",
    "x_test = np.expand_dims(x_test, -1)\n",
    "print(\"x_train shape:\", x_train.shape)\n",
    "print(x_train.shape[0], \"train samples\")\n",
    "print(x_test.shape[0], \"test samples\")\n",
    "\n",
    "# convert class vectors to binary class matrices\n",
    "y_train = kr.utils.to_categorical(y_train, num_classes)\n",
    "y_test = kr.utils.to_categorical(y_test, num_classes)"
   ]
  },
  {
   "cell_type": "markdown",
   "id": "0a69f4b7",
   "metadata": {},
   "source": [
    "Build the model"
   ]
  },
  {
   "cell_type": "code",
   "execution_count": null,
   "id": "25b1ff75",
   "metadata": {
    "collapsed": false
   },
   "outputs": [],
   "source": [
    "model = kr.Sequential(\n",
    "    [\n",
    "        kr.Input(shape=input_shape),\n",
    "        layers.Conv2D(32, kernel_size=(3, 3), activation=\"relu\"),\n",
    "        layers.MaxPooling2D(pool_size=(2, 2)),\n",
    "        layers.Conv2D(64, kernel_size=(3, 3), activation=\"relu\"),\n",
    "        layers.MaxPooling2D(pool_size=(2, 2)),\n",
    "        layers.Flatten(),\n",
    "        layers.Dropout(0.5),\n",
    "        layers.Dense(num_classes, activation=\"softmax\"),\n",
    "    ]\n",
    ")\n",
    "\n",
    "model.summary()"
   ]
  },
  {
   "cell_type": "markdown",
   "id": "b174e4a1",
   "metadata": {},
   "source": [
    "Train the model"
   ]
  },
  {
   "cell_type": "code",
   "execution_count": null,
   "id": "7a590537",
   "metadata": {
    "collapsed": false
   },
   "outputs": [],
   "source": [
    "batch_size = 128\n",
    "epochs = 15\n",
    "\n",
    "model.compile(loss=\"categorical_crossentropy\", optimizer=\"adam\", metrics=[\"accuracy\"])\n",
    "\n",
    "model.fit(x_train, y_train, batch_size=batch_size, epochs=epochs, validation_split=0.1)"
   ]
  },
  {
   "cell_type": "markdown",
   "id": "ff0910e3",
   "metadata": {},
   "source": [
    "Evaluate the trained model"
   ]
  },
  {
   "cell_type": "code",
   "execution_count": null,
   "id": "a44080c3",
   "metadata": {
    "collapsed": false
   },
   "outputs": [],
   "source": [
    "score = model.evaluate(x_test, y_test, verbose=0)\n",
    "print(\"Test loss:\", score[0])\n",
    "print(\"Test accuracy:\", score[1])"
   ]
  },
  {
   "cell_type": "markdown",
   "id": "f296f87c",
   "metadata": {},
   "source": [
    "## 4.3 Standard modules\n",
    "\n",
    "* sys: https://docs.python.org/3/library/sys.html#module-sys\n",
    "* os: Miscellaneous operating system interfaces (https://docs.python.org/3/library/os.html)\n",
    "* io: Core tools for working with streams (https://docs.python.org/3/library/io.html)\n",
    "* time:  Time access and conversions (https://docs.python.org/3/library/time.html)\n",
    "* argparse: Parser for command-line options, arguments and sub-commands (https://docs.python.org/3/library/argparse.html)\n",
    "* csv: CSV File Reading and Writing (https://docs.python.org/3/library/csv.html)\n",
    "* pickle: Python object serialization (https://docs.python.org/3/library/pickle.html)\n",
    "* math: Mathematical functions (https://docs.python.org/3/library/math.html)"
   ]
  },
  {
   "cell_type": "markdown",
   "id": "d3e8834d",
   "metadata": {},
   "source": [
    "## 4.4 Your own modules (do not execute this, it won't work!)\n",
    "\n",
    "A module is a file containing Python definitions and statements. \n",
    "The file name is the module name with the suffix .py appended. \n",
    "For instance, if you create a file called fibo.py in the a\n",
    "directory with the following contents:"
   ]
  },
  {
   "cell_type": "code",
   "execution_count": null,
   "id": "52db0dac",
   "metadata": {
    "collapsed": false
   },
   "outputs": [],
   "source": [
    "# Fibonacci numbers module (saved as fibo.py)\n",
    "\n",
    "def fib(n):    # write Fibonacci series up to n\n",
    "    a, b = 0, 1\n",
    "    while a < n:\n",
    "        print(a, end=' ')\n",
    "        a, b = b, a+b\n",
    "    print()\n",
    "\n",
    "def fib2(n):   # return Fibonacci series up to n\n",
    "    result = []\n",
    "    a, b = 0, 1\n",
    "    while a < n:\n",
    "        result.append(a)\n",
    "        a, b = b, a+b\n",
    "    return result"
   ]
  },
  {
   "cell_type": "markdown",
   "id": "259258e8",
   "metadata": {},
   "source": [
    "You could enter a Python interpreter (we cannot do it because we are using\n",
    "a notebook!) and import this module with the following command:"
   ]
  },
  {
   "cell_type": "code",
   "execution_count": null,
   "id": "d0914f44",
   "metadata": {
    "collapsed": false
   },
   "outputs": [],
   "source": [
    "import fibo"
   ]
  },
  {
   "cell_type": "markdown",
   "id": "4c73094a",
   "metadata": {},
   "source": [
    "This does not enter the names of the functions defined in fibo directly in \n",
    "the current symbol table; it only enters the module name fibo there. Using the \n",
    "module name you can access the functions:"
   ]
  },
  {
   "cell_type": "code",
   "execution_count": null,
   "id": "042fe31d",
   "metadata": {
    "collapsed": false
   },
   "outputs": [],
   "source": [
    "fibo.fib(1000)\n",
    "fibo.fib2(100)"
   ]
  },
  {
   "cell_type": "markdown",
   "id": "cb0ba5e2",
   "metadata": {},
   "source": [
    "It's also possible to import particular functions, instead of the whole module"
   ]
  },
  {
   "cell_type": "code",
   "execution_count": null,
   "id": "af7375c0",
   "metadata": {
    "collapsed": false
   },
   "outputs": [],
   "source": [
    "from fibo import fib"
   ]
  },
  {
   "cell_type": "markdown",
   "id": "39c332c4",
   "metadata": {},
   "source": [
    "Then we could just simply call it without the `fibo` module"
   ]
  },
  {
   "cell_type": "code",
   "execution_count": null,
   "id": "b89c4e0a",
   "metadata": {
    "collapsed": false
   },
   "outputs": [],
   "source": [
    "fib(1000)"
   ]
  },
  {
   "cell_type": "markdown",
   "id": "8888e233",
   "metadata": {},
   "source": [
    "We can also import several functions"
   ]
  },
  {
   "cell_type": "code",
   "execution_count": null,
   "id": "9b6d85c1",
   "metadata": {
    "collapsed": false
   },
   "outputs": [],
   "source": [
    "from fibo import fib, fib2\n",
    "fib(1000)\n",
    "fib2(100)"
   ]
  },
  {
   "cell_type": "markdown",
   "id": "4c4f5fad",
   "metadata": {},
   "source": [
    "This works if we are in the same folder as our `fibo.py`. If `fibo.py` is in another folder, we\n",
    "need to add the path to python"
   ]
  },
  {
   "cell_type": "code",
   "execution_count": null,
   "id": "507438b7",
   "metadata": {
    "collapsed": false
   },
   "outputs": [],
   "source": [
    "# String with full path to the folder that contains fibo.py\n",
    "path_to_fibo = '/path/to/fibo'\n",
    "\n",
    "# Add path to system\n",
    "sys.path.insert(1, path_to_fibo)"
   ]
  },
  {
   "cell_type": "markdown",
   "id": "a0f0a41f",
   "metadata": {},
   "source": [
    "## 4.5 Scripts and executing from terminal\n",
    "This part will be shown outside the notebook"
   ]
  },
  {
   "cell_type": "markdown",
   "id": "56726e65",
   "metadata": {},
   "source": [
    "## 4.6 IPython\n",
    "IPython documentation:\n",
    "* https://ipython.readthedocs.io/en/stable/\n",
    "\n",
    "One of Python’s most useful features is its interactive interpreter. It allows for very fast \n",
    "testing of ideas without the overhead of creating test files as is typical in most programming \n",
    "languages. However, the interpreter supplied with the standard Python distribution is somewhat \n",
    "limited for extended interactive use."
   ]
  }
 ],
 "metadata": {},
 "nbformat": 4,
 "nbformat_minor": 5
}
